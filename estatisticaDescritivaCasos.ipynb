{
 "cells": [
  {
   "cell_type": "markdown",
   "metadata": {
    "id": "mDMdS0t7J9X9"
   },
   "source": [
    "# Medidas de Posição e Tendência Central"
   ]
  },
  {
   "cell_type": "markdown",
   "metadata": {
    "id": "QZ67sEcFcVh1"
   },
   "source": [
    "Importando as bibliotecas"
   ]
  },
  {
   "cell_type": "code",
   "execution_count": 1,
   "metadata": {
    "id": "-R8H-nC4ZHvd"
   },
   "outputs": [],
   "source": [
    "import numpy as np\n",
    "import matplotlib.pyplot as plt\n",
    "from cycler import cycler"
   ]
  },
  {
   "cell_type": "code",
   "execution_count": 2,
   "metadata": {
    "id": "ZE9QzUD2ZZpB"
   },
   "outputs": [],
   "source": [
    "from scipy.stats.mstats import gmean,hmean\n",
    "from scipy import stats"
   ]
  },
  {
   "cell_type": "markdown",
   "metadata": {
    "id": "GiS4OoANKLu5"
   },
   "source": [
    "**Média Aritmética (MA) - É a soma de todos os elementos do conjunto, divididos pelo número de elementos que compõe o conjunto.**\n",
    "\n",
    "![alt text](https://wikimedia.org/api/rest_v1/media/math/render/svg/c938ca170f8c4a5d2dddecabc5ae1d5eb5f35a2b)"
   ]
  },
  {
   "cell_type": "code",
   "execution_count": 3,
   "metadata": {
    "id": "pvKTuLnHZMFx"
   },
   "outputs": [],
   "source": [
    "dados = [1,2,5,3,4]"
   ]
  },
  {
   "cell_type": "code",
   "execution_count": 4,
   "metadata": {
    "colab": {
     "base_uri": "https://localhost:8080/"
    },
    "id": "glWMxJx0ZTG5",
    "outputId": "b8424930-1298-4cf7-d5fd-0ca029f7406d"
   },
   "outputs": [
    {
     "data": {
      "text/plain": [
       "3.0"
      ]
     },
     "execution_count": 4,
     "metadata": {},
     "output_type": "execute_result"
    }
   ],
   "source": [
    "np.mean(dados)"
   ]
  },
  {
   "cell_type": "markdown",
   "metadata": {
    "id": "nttS850jbM-r"
   },
   "source": [
    "**Média Geométrica (MG) - É a raíz n-ésima do produto de todos os elementos que compõe o conjunto.**\n",
    "\n",
    "![alt text](https://wikimedia.org/api/rest_v1/media/math/render/svg/82fb3d898a5de7ae016b07855c335ce570350410)"
   ]
  },
  {
   "cell_type": "code",
   "execution_count": 5,
   "metadata": {
    "id": "RFuuguTHclir"
   },
   "outputs": [
    {
     "data": {
      "text/plain": [
       "2.6051710846973517"
      ]
     },
     "execution_count": 5,
     "metadata": {},
     "output_type": "execute_result"
    }
   ],
   "source": [
    "gmean(dados)"
   ]
  },
  {
   "cell_type": "markdown",
   "metadata": {
    "id": "eDTRVRAYbo3o"
   },
   "source": [
    "**Média Harmônica (MH) - É o número de elementos, divididos pela soma dos inversos dos elementos que compõem o conjunto.**\n",
    "\n",
    "![alt text](https://wikimedia.org/api/rest_v1/media/math/render/svg/5335415727099e38ba27a1775613020dc4b584de)"
   ]
  },
  {
   "cell_type": "code",
   "execution_count": 6,
   "metadata": {
    "id": "Lazfd7f-cvJo"
   },
   "outputs": [
    {
     "data": {
      "text/plain": [
       "2.18978102189781"
      ]
     },
     "execution_count": 6,
     "metadata": {},
     "output_type": "execute_result"
    }
   ],
   "source": [
    "hmean(dados)"
   ]
  },
  {
   "cell_type": "markdown",
   "metadata": {
    "id": "lddpRaNov0pA"
   },
   "source": [
    "## Quando usar cada uma das médias?"
   ]
  },
  {
   "cell_type": "markdown",
   "metadata": {
    "id": "0P0vlEpViPk5"
   },
   "source": [
    "### Funções para plotar gráficos"
   ]
  },
  {
   "cell_type": "code",
   "execution_count": 7,
   "metadata": {
    "id": "gkUgx5aTwFvh"
   },
   "outputs": [],
   "source": [
    "# função para plot de gráfico dispersado em linha\n",
    "def plot_lines(dados, valor_central):\n",
    "  if valor_central in dados:\n",
    "    posicao_central = dados.index(valor_central)+1\n",
    "  else:\n",
    "    dados.append(valor_central)\n",
    "    dados.sort()\n",
    "    posicao_central = dados.index(valor_central)+1\n",
    "  \n",
    "  posicoes = np.arange(1,len(dados)+1,1)\n",
    "  plt.figure(figsize=(8,6))\n",
    "  plt.plot(posicoes,dados,'o-', color='red',ms=15)\n",
    "  plt.plot(posicao_central, valor_central, 'o-',color='blue',ms=15)\n",
    "  plt.show()"
   ]
  },
  {
   "cell_type": "code",
   "execution_count": 8,
   "metadata": {
    "id": "eynTjAwxrvCq"
   },
   "outputs": [],
   "source": [
    "# função para plot de gráfico com destaque aos diferentes tipos de médias\n",
    "def plot_line_means(dados, mean, gmean,hmean):\n",
    "  posicoes_centrais=[]\n",
    "  y=[]\n",
    "  x = dados\n",
    "  \n",
    "  for m in [mean,gmean,hmean]:\n",
    "    x.append(m)\n",
    "  \n",
    "  x.sort()\n",
    "  for m in [mean,gmean,hmean]:\n",
    "    if m in x:\n",
    "      posicoes_centrais.append(x.index(m)+1)\n",
    "  \n",
    "  print(\"Dados: {}\".format(x))\n",
    "  print(\"Media aritmética: {}, Média Geométrica: {}, Média Harmonica: {}\".format(mean,gmean,hmean))\n",
    "  \n",
    "  y = np.arange(1,len(x)+1,1)\n",
    "  \n",
    "  plt.figure(figsize=(8,6))\n",
    "  plt.rc('axes', prop_cycle=(cycler('color', ['r', 'g', 'b'])))\n",
    "  plt.plot(y,x,'o-', color='black',ms=15)\n",
    "  medias = ['MA','MG','MH'] \n",
    "  i=0\n",
    "  for posicao_central,valor_central in zip(posicoes_centrais,[mean,gmean,hmean]):\n",
    "    plt.plot(posicao_central, valor_central, 'o-',ms=15)\n",
    "    plt.text(x=posicao_central+0.2, y=valor_central+0.2, s=medias[i], alpha=0.7, color='#334f8d')\n",
    "    i+=1\n",
    "\n",
    "  plt.show()"
   ]
  },
  {
   "cell_type": "code",
   "execution_count": 9,
   "metadata": {
    "id": "rjpQ2OLsSgqe"
   },
   "outputs": [],
   "source": [
    "# função para plot de gráfico dispersado na horizontal\n",
    "def plot_lines_horizontal(dados,valor_central):\n",
    "  plt.figure(figsize=(10,6))\n",
    "  y = 0\n",
    "  plt.hlines(y, min(dados), max(dados))\n",
    "  for n in dados:\n",
    "    if n == valor_central:\n",
    "      plt.plot(n,y, 'o', ms = 15, color='blue')\n",
    "      continue  \n",
    "    plt.plot(n,y, 'o', ms = 15, color = 'red')"
   ]
  },
  {
   "cell_type": "markdown",
   "metadata": {
    "id": "v3SzrUJav73B"
   },
   "source": [
    "### Considere os cenários"
   ]
  },
  {
   "cell_type": "markdown",
   "metadata": {
    "id": "1dV32Nmd1MGP"
   },
   "source": [
    "Exemplo de dados gerados a partir de uma **operação de adição**, a soma do valor 3 em cada elemento do vetor (relacionamento linear)"
   ]
  },
  {
   "cell_type": "code",
   "execution_count": 10,
   "metadata": {
    "id": "4-IY90hFv_sR"
   },
   "outputs": [],
   "source": [
    "dados_linear = [1, 4, 7, 10, 13, 16, 19]"
   ]
  },
  {
   "cell_type": "markdown",
   "metadata": {
    "id": "6Gy6dcjQ082B"
   },
   "source": [
    "Calculando a média aritmética"
   ]
  },
  {
   "cell_type": "code",
   "execution_count": 11,
   "metadata": {
    "id": "8NeF5SCI06Fx"
   },
   "outputs": [],
   "source": [
    "media = int(np.mean(dados_linear))"
   ]
  },
  {
   "cell_type": "code",
   "execution_count": 12,
   "metadata": {
    "id": "2d0VPC2B1yLv"
   },
   "outputs": [
    {
     "name": "stdout",
     "output_type": "stream",
     "text": [
      "Valor da média aritmética dos dados: 10\n"
     ]
    }
   ],
   "source": [
    "print(\"Valor da média aritmética dos dados: {}\".format(media))"
   ]
  },
  {
   "cell_type": "markdown",
   "metadata": {
    "id": "l8y5mULb1A30"
   },
   "source": [
    "Plotando os dados e seu valor central"
   ]
  },
  {
   "cell_type": "code",
   "execution_count": 13,
   "metadata": {
    "id": "P_RwW1Tn7YPC"
   },
   "outputs": [
    {
     "data": {
      "image/png": "[encoded data removed]",
      "text/plain": [
       "<Figure size 800x600 with 1 Axes>"
      ]
     },
     "metadata": {},
     "output_type": "display_data"
    }
   ],
   "source": [
    "plot_lines(dados_linear,media)"
   ]
  },
  {
   "cell_type": "code",
   "execution_count": 14,
   "metadata": {
    "id": "_h0mcgTig4Vh"
   },
   "outputs": [
    {
     "data": {
      "image/png": "[encoded data removed]",
      "text/plain": [
       "<Figure size 1000x600 with 1 Axes>"
      ]
     },
     "metadata": {},
     "output_type": "display_data"
    }
   ],
   "source": [
    "plot_lines_horizontal(dados_linear,media)"
   ]
  },
  {
   "cell_type": "markdown",
   "metadata": {
    "id": "3GIj5J5q3HdP"
   },
   "source": [
    "Exemplo de dados gerados a partir de uma **operação de multiplicação**, a multiplicação de cada elemento pelo valor de 3 (relacionamento exponencial)"
   ]
  },
  {
   "cell_type": "code",
   "execution_count": 15,
   "metadata": {
    "id": "sQIB1e3t9cWi"
   },
   "outputs": [],
   "source": [
    "dados_exponencial = [1, 3, 9, 27, 81, 243, 729]"
   ]
  },
  {
   "cell_type": "markdown",
   "metadata": {
    "id": "zB_YzIi_3qAi"
   },
   "source": [
    "Calculando a média aritmética."
   ]
  },
  {
   "cell_type": "markdown",
   "metadata": {
    "id": "pVDyPnKRAKi_"
   },
   "source": [
    "(1 + 3 + 9 + 27 + 81 + 243 + 729) ÷ 7 = **156.1**"
   ]
  },
  {
   "cell_type": "code",
   "execution_count": 16,
   "metadata": {
    "id": "KK_0MedZ3oq5"
   },
   "outputs": [],
   "source": [
    "media = int(np.mean(dados_exponencial))"
   ]
  },
  {
   "cell_type": "code",
   "execution_count": 17,
   "metadata": {
    "id": "oUQECliJRNuZ"
   },
   "outputs": [
    {
     "name": "stdout",
     "output_type": "stream",
     "text": [
      "Valor da média aritmética dos dados: 156\n"
     ]
    }
   ],
   "source": [
    "print(\"Valor da média aritmética dos dados: {}\".format(media))"
   ]
  },
  {
   "cell_type": "markdown",
   "metadata": {
    "id": "yDdqGi4d32zw"
   },
   "source": [
    "Plotando os dados e seu valor central."
   ]
  },
  {
   "cell_type": "code",
   "execution_count": 18,
   "metadata": {
    "id": "o0IKSoFs9xm7"
   },
   "outputs": [
    {
     "data": {
      "image/png": "[encoded data removed]",
      "text/plain": [
       "<Figure size 800x600 with 1 Axes>"
      ]
     },
     "metadata": {},
     "output_type": "display_data"
    }
   ],
   "source": [
    "plot_lines(dados_exponencial,media)"
   ]
  },
  {
   "cell_type": "code",
   "execution_count": 19,
   "metadata": {
    "id": "mIGMgM0_grXk"
   },
   "outputs": [
    {
     "data": {
      "image/png": "[encoded data removed]",
      "text/plain": [
       "<Figure size 1000x600 with 1 Axes>"
      ]
     },
     "metadata": {},
     "output_type": "display_data"
    }
   ],
   "source": [
    "plot_lines_horizontal(dados_exponencial,media)"
   ]
  },
  {
   "cell_type": "markdown",
   "metadata": {
    "id": "J-zgMiqX45aR"
   },
   "source": [
    "Considerando agora a aplicação da média geométrica."
   ]
  },
  {
   "cell_type": "markdown",
   "metadata": {
    "id": "TGP9Cq2u5AjZ"
   },
   "source": [
    "Especificando os mesmos dados com um relacionando exponencial."
   ]
  },
  {
   "cell_type": "code",
   "execution_count": 20,
   "metadata": {
    "id": "06kWRxjv5Qfe"
   },
   "outputs": [],
   "source": [
    "dados_exponencial = [1, 3, 9, 27, 81, 243, 729]"
   ]
  },
  {
   "cell_type": "markdown",
   "metadata": {
    "id": "_db-X-w05R2A"
   },
   "source": [
    "Calculando a média geométrica."
   ]
  },
  {
   "cell_type": "markdown",
   "metadata": {
    "id": "Kg5t87iS_Q9H"
   },
   "source": [
    "(1 * 3 * 9 * 27 * 81 * 243 * 729) = 10,460,353,203\n",
    "\n",
    "Raiz sétima (7) de **10,460,353,203** = 27"
   ]
  },
  {
   "cell_type": "code",
   "execution_count": 21,
   "metadata": {
    "id": "e8k0jsNB5hKI"
   },
   "outputs": [],
   "source": [
    "media_geo = int(gmean(dados_exponencial))"
   ]
  },
  {
   "cell_type": "code",
   "execution_count": 22,
   "metadata": {
    "id": "Q0OQZfNE5yvg"
   },
   "outputs": [
    {
     "name": "stdout",
     "output_type": "stream",
     "text": [
      "Valor da média geométrica dos dados: 27\n"
     ]
    }
   ],
   "source": [
    "print(\"Valor da média geométrica dos dados: {}\".format(media_geo))"
   ]
  },
  {
   "cell_type": "markdown",
   "metadata": {
    "id": "Ugpty5ul5-tQ"
   },
   "source": [
    "Plotando os dados e seu valor central."
   ]
  },
  {
   "cell_type": "code",
   "execution_count": 23,
   "metadata": {
    "id": "Nq9pLeZU57iy"
   },
   "outputs": [
    {
     "data": {
      "image/png": "[encoded data removed]",
      "text/plain": [
       "<Figure size 800x600 with 1 Axes>"
      ]
     },
     "metadata": {},
     "output_type": "display_data"
    }
   ],
   "source": [
    "plot_lines(dados_exponencial,media_geo)"
   ]
  },
  {
   "cell_type": "code",
   "execution_count": 24,
   "metadata": {
    "id": "LkILBQWX6ETA"
   },
   "outputs": [
    {
     "data": {
      "image/png": "[encoded data removed]",
      "text/plain": [
       "<Figure size 1000x600 with 1 Axes>"
      ]
     },
     "metadata": {},
     "output_type": "display_data"
    }
   ],
   "source": [
    "plot_lines_horizontal(dados_exponencial,media_geo)"
   ]
  },
  {
   "cell_type": "markdown",
   "metadata": {
    "id": "DvM1mXke8Ajo"
   },
   "source": [
    "### Considerações importantes\n",
    "\n",
    "*   A **média aritmética** produz um resultado interessante quando temos um **relacionamento aditivo** entre os números da amostra.\n",
    "*   Este relacionamento é chamado linear pois, ao exibir graficamente os valores tendem a seguir uma linha ascendente ou descendente.\n",
    "*   Já a **média geométrica** é mais apropriada quando temos uma amostra com um **relacionamento multiplicativo** ou exponencial.\n",
    "\n",
    "\n",
    "*   A diferença entre as médias é que enquanto a média aritmética faz a **soma** de todos os elementos e depois a **divisão**, a média geométrica atua com a **multiplicação** entre os elementos e depois reescala através da **raiz** os valores para a mesma unidade da amostra.\n",
    "\n",
    "\n",
    "\n",
    "\n",
    "\n",
    "\n"
   ]
  },
  {
   "cell_type": "markdown",
   "metadata": {
    "id": "hOX4MOkiCiT4"
   },
   "source": [
    "# Comparando as médidas em um cenário real.\n",
    "### Verificando os valores de avaliações de dois cafés.\n",
    "### Hard Rock Café Gramado vs Hard Rock Café Curitiba."
   ]
  },
  {
   "cell_type": "markdown",
   "metadata": {
    "id": "y84QuoR-Cfr2"
   },
   "source": [
    "![alt text](https://media-cdn.tripadvisor.com/media/photo-s/13/df/fc/f0/fachada-hard-rock-cafe.jpg)\n",
    "![alt text](https://media-cdn.tripadvisor.com/media/photo-s/1a/2e/c8/db/hard-rock-cafe-curitiba.jpg)"
   ]
  },
  {
   "cell_type": "markdown",
   "metadata": {
    "id": "U4tXULdhEuW4"
   },
   "source": [
    "**Hard Rock Café Gramado**\n",
    "*   Avaliações no TripAdvisor: 3,5\n",
    "*   Índice de Satisfação dos Clientes: 89%\n",
    "\n",
    "**Hard Rock Café Curitiba**\n",
    "*   Avaliaçõs no TripAdvisor: 4,5\n",
    "*   Índice de Satisfação dos Clientes: 75%\n"
   ]
  },
  {
   "cell_type": "markdown",
   "metadata": {
    "id": "E23TQ2y9HRl2"
   },
   "source": [
    "Aplicação de verificar o estabelecimento com a melhor avaliação em diferentes escalas."
   ]
  },
  {
   "cell_type": "markdown",
   "metadata": {
    "id": "ZYVsCes_ITl3"
   },
   "source": [
    "Calculando a média aritmética"
   ]
  },
  {
   "cell_type": "code",
   "execution_count": 25,
   "metadata": {
    "id": "x39nVkplEtkp"
   },
   "outputs": [],
   "source": [
    "aval_gramado,aval_curitiba = 3.5, 4.5\n",
    "indice_gramado,indice_curitiba = 89, 75"
   ]
  },
  {
   "cell_type": "code",
   "execution_count": 26,
   "metadata": {
    "id": "dk8bZaFcKjf6"
   },
   "outputs": [
    {
     "name": "stdout",
     "output_type": "stream",
     "text": [
      "Média para Gramado: 46.25\n",
      "Média para Curitiba: 39.75\n"
     ]
    }
   ],
   "source": [
    "print(\"Média para Gramado: {}\".format(np.mean([aval_gramado,indice_gramado])))\n",
    "print(\"Média para Curitiba: {}\".format(np.mean([aval_curitiba,indice_curitiba])))"
   ]
  },
  {
   "cell_type": "markdown",
   "metadata": {
    "id": "Vgq0PtG-Pn38"
   },
   "source": [
    "Considerando a média aritmética o Hard Rock Café de Gramado é o estabelecimento melhor avaliado."
   ]
  },
  {
   "cell_type": "markdown",
   "metadata": {
    "id": "GzYJKv_vQjCd"
   },
   "source": [
    "Agora vamos considerar a possibilidade de fazer uma reescala dos dados de avaliação do trip advisor."
   ]
  },
  {
   "cell_type": "code",
   "execution_count": 27,
   "metadata": {
    "id": "5SttJRUvQ8qJ"
   },
   "outputs": [
    {
     "name": "stdout",
     "output_type": "stream",
     "text": [
      "Valores reescalados: 70.0,90.0\n"
     ]
    }
   ],
   "source": [
    "print(\"Valores reescalados: {},{}\".format(aval_gramado*20,aval_curitiba*20))"
   ]
  },
  {
   "cell_type": "markdown",
   "metadata": {
    "id": "7MdfLemHR6Rg"
   },
   "source": [
    "Calculando a média aritmética"
   ]
  },
  {
   "cell_type": "code",
   "execution_count": 28,
   "metadata": {
    "id": "qVcDbx0ZR28o"
   },
   "outputs": [
    {
     "name": "stdout",
     "output_type": "stream",
     "text": [
      "Média para Gramado: 79.5\n",
      "Média para Curitiba: 82.5\n"
     ]
    }
   ],
   "source": [
    "print(\"Média para Gramado: {}\".format(np.mean([aval_gramado*20,indice_gramado])))\n",
    "print(\"Média para Curitiba: {}\".format(np.mean([aval_curitiba*20,indice_curitiba])))"
   ]
  },
  {
   "cell_type": "markdown",
   "metadata": {
    "id": "VZKjTZmfe9ai"
   },
   "source": [
    "Considerando o mesmo cenário agora utilizando a média geométrica."
   ]
  },
  {
   "cell_type": "code",
   "execution_count": 29,
   "metadata": {
    "id": "wUqRfna9fqaX"
   },
   "outputs": [
    {
     "name": "stdout",
     "output_type": "stream",
     "text": [
      "Média Geométrica para Gramado: 17.64936259472279\n",
      "Média Geométrica para Curitiba: 18.371173070873837\n"
     ]
    }
   ],
   "source": [
    "print(\"Média Geométrica para Gramado: {}\".format(gmean([aval_gramado,indice_gramado])))\n",
    "print(\"Média Geométrica para Curitiba: {}\".format(gmean([aval_curitiba,indice_curitiba])))"
   ]
  },
  {
   "cell_type": "markdown",
   "metadata": {
    "id": "VA_3GtxfDh4W"
   },
   "source": [
    "### Considerações\n",
    "*   Os valores alterados para a mesma escala nos deram **resultados diferentes** mais próximos da realidade.\n",
    "*   Utilizando a média geométrica já nos entrega o resultado \"correto\" pois considera o **relacionamento multiplicativo** entre os dados da amostra.\n",
    "*   É importante notar que aplicando a média geométrica para os dados em **diferentes escalas** o retorno não está na mesma unidade da amostra.\n",
    "\n",
    "\n"
   ]
  },
  {
   "cell_type": "markdown",
   "metadata": {
    "id": "3tFjwgjUo0HK"
   },
   "source": [
    "## Média harmônica."
   ]
  },
  {
   "cell_type": "markdown",
   "metadata": {
    "id": "RlTZ7Bi9LQiB"
   },
   "source": [
    "![alt text](https://images.unsplash.com/photo-1469854523086-cc02fe5d8800?ixlib=rb-1.2.1&ixid=eyJhcHBfaWQiOjEyMDd9&auto=format&fit=crop&w=500&q=60)\n",
    "\n",
    "\n",
    "Percurso Total da Viagem 10km\n",
    "*   CAMINHO DE IDA = 30km/h\n",
    "*   CAMINHO DE VOLTA = 10km/h\n",
    "\n",
    "\n"
   ]
  },
  {
   "cell_type": "markdown",
   "metadata": {
    "id": "rq1AgTOwL81C"
   },
   "source": [
    "**Qual a velocidade média da viagem?**"
   ]
  },
  {
   "cell_type": "markdown",
   "metadata": {
    "id": "5DdHJOV-MAjw"
   },
   "source": [
    "Usando a média aritmética"
   ]
  },
  {
   "cell_type": "code",
   "execution_count": 30,
   "metadata": {
    "id": "dQUp2bL7MCrP"
   },
   "outputs": [
    {
     "data": {
      "text/plain": [
       "20.0"
      ]
     },
     "execution_count": 30,
     "metadata": {},
     "output_type": "execute_result"
    }
   ],
   "source": [
    "np.mean([30,10])"
   ]
  },
  {
   "cell_type": "markdown",
   "metadata": {
    "id": "Puroq9bhMHWa"
   },
   "source": [
    "**VIAGEM DE IDA - 5km à 30km/h**\n",
    "*   30 km por 60 minutos = 1 km a cada 2 minutos = 1/2 km por minuto.\n",
    "*   5km a 1/2 km por minuto = 10 minutos.\n"
   ]
  },
  {
   "cell_type": "markdown",
   "metadata": {
    "id": "8ROIpoCUMvrY"
   },
   "source": [
    "**VIAGEM DE VOLTA - 5km à 10km/h**\n",
    "*   10 km por 60 minutos = 1 km a cada 6 minutos = 1/6 km por minuto.\n",
    "*   5 km a 1/6 km por minuto = 30 minutos."
   ]
  },
  {
   "cell_type": "markdown",
   "metadata": {
    "id": "jn_J4LC1Nbgv"
   },
   "source": [
    "Tempo total da viagem = 40 minutos"
   ]
  },
  {
   "cell_type": "markdown",
   "metadata": {
    "id": "Wp9UKdKUNeIr"
   },
   "source": [
    "Proporção da viagem de ida em relação ao tempo total da viagem."
   ]
  },
  {
   "cell_type": "code",
   "execution_count": 31,
   "metadata": {
    "id": "udmHdBEONlts"
   },
   "outputs": [
    {
     "name": "stdout",
     "output_type": "stream",
     "text": [
      "Proporção de tempo da viagem de ida em relação ao tempo total da viagem: 25.0%\n"
     ]
    }
   ],
   "source": [
    "print(\"Proporção de tempo da viagem de ida em relação ao tempo total da viagem: {}%\".format((10/40)*100))"
   ]
  },
  {
   "cell_type": "code",
   "execution_count": 32,
   "metadata": {
    "id": "wiMymk_kN4GQ"
   },
   "outputs": [
    {
     "name": "stdout",
     "output_type": "stream",
     "text": [
      "Proporção de tempo da viagem de volta em relação ao tempo total da viagem: 75.0%\n"
     ]
    }
   ],
   "source": [
    "print(\"Proporção de tempo da viagem de volta em relação ao tempo total da viagem: {}%\".format((30/40)*100))"
   ]
  },
  {
   "cell_type": "markdown",
   "metadata": {
    "id": "DLEUHTG5OhfT"
   },
   "source": [
    "Calculando a Média Aritmética Ponderada."
   ]
  },
  {
   "cell_type": "code",
   "execution_count": 33,
   "metadata": {
    "id": "nusGgidhOICo"
   },
   "outputs": [
    {
     "data": {
      "text/plain": [
       "15.0"
      ]
     },
     "execution_count": 33,
     "metadata": {},
     "output_type": "execute_result"
    }
   ],
   "source": [
    "np.average([30,10], weights=[.25,.75])"
   ]
  },
  {
   "cell_type": "code",
   "execution_count": 34,
   "metadata": {
    "id": "FUmdGfGYOzKn"
   },
   "outputs": [
    {
     "data": {
      "text/plain": [
       "15.0"
      ]
     },
     "execution_count": 34,
     "metadata": {},
     "output_type": "execute_result"
    }
   ],
   "source": [
    "hmean([30,10])"
   ]
  },
  {
   "cell_type": "markdown",
   "metadata": {
    "id": "Pv7QcAODWiQO"
   },
   "source": [
    "### As médias seguem um relacionamento ordinal: **média harmônica < média geométrica < média aritmética**."
   ]
  },
  {
   "cell_type": "markdown",
   "metadata": {
    "id": "C0YTVp4jXWff"
   },
   "source": [
    "Considerando os dados com o relacionamento aditivo."
   ]
  },
  {
   "cell_type": "code",
   "execution_count": 35,
   "metadata": {
    "id": "e3NhRbvm5lDQ"
   },
   "outputs": [],
   "source": [
    "dados = [1, 4, 7, 10, 13, 16, 19]"
   ]
  },
  {
   "cell_type": "code",
   "execution_count": 36,
   "metadata": {
    "id": "kvSWHH3cInuI"
   },
   "outputs": [],
   "source": [
    "media_aritmetica,media_geometrica,media_harmonica = round(np.mean(dados),2),round(gmean(dados),2),round(hmean(dados),2)"
   ]
  },
  {
   "cell_type": "code",
   "execution_count": 37,
   "metadata": {
    "id": "4ZYD_FsQKCxR"
   },
   "outputs": [
    {
     "data": {
      "text/plain": [
       "(10.0, 7.3, 4.15)"
      ]
     },
     "execution_count": 37,
     "metadata": {},
     "output_type": "execute_result"
    }
   ],
   "source": [
    "media_aritmetica,media_geometrica,media_harmonica"
   ]
  },
  {
   "cell_type": "markdown",
   "metadata": {
    "id": "JhVIFn9oXb4T"
   },
   "source": [
    "Visualizando graficamente."
   ]
  },
  {
   "cell_type": "code",
   "execution_count": 38,
   "metadata": {
    "id": "lcDJoUTG5pmd"
   },
   "outputs": [
    {
     "name": "stdout",
     "output_type": "stream",
     "text": [
      "Dados: [1, 4, 4.15, 7, 7.3, 10, 10.0, 13, 16, 19]\n",
      "Media aritmética: 10.0, Média Geométrica: 7.3, Média Harmonica: 4.15\n"
     ]
    },
    {
     "data": {
      "image/png": "[encoded data removed]",
      "text/plain": [
       "<Figure size 800x600 with 1 Axes>"
      ]
     },
     "metadata": {},
     "output_type": "display_data"
    }
   ],
   "source": [
    "plot_line_means(dados,media_aritmetica,media_geometrica,media_harmonica)"
   ]
  },
  {
   "cell_type": "markdown",
   "metadata": {
    "id": "GJBRL-yhXe5V"
   },
   "source": [
    "Considerando os dados com o relacionamento multiplicativo."
   ]
  },
  {
   "cell_type": "code",
   "execution_count": 39,
   "metadata": {
    "id": "K_SIYROiwXg0"
   },
   "outputs": [],
   "source": [
    "dados = [1, 3, 9, 27, 81, 243, 729]"
   ]
  },
  {
   "cell_type": "code",
   "execution_count": 40,
   "metadata": {
    "id": "MEFonWSmQOZw"
   },
   "outputs": [],
   "source": [
    "media_aritmetica,media_geometrica,media_harmonica = round(np.mean(dados),2),round(gmean(dados),2),round(hmean(dados),2)"
   ]
  },
  {
   "cell_type": "code",
   "execution_count": 41,
   "metadata": {
    "id": "qDlf65sSQO-d"
   },
   "outputs": [
    {
     "data": {
      "text/plain": [
       "(156.14, 27.0, 4.67)"
      ]
     },
     "execution_count": 41,
     "metadata": {},
     "output_type": "execute_result"
    }
   ],
   "source": [
    "media_aritmetica,media_geometrica,media_harmonica"
   ]
  },
  {
   "cell_type": "markdown",
   "metadata": {
    "id": "5LDtiaNqXoMW"
   },
   "source": [
    "Visualizando graficamente."
   ]
  },
  {
   "cell_type": "code",
   "execution_count": 42,
   "metadata": {
    "id": "_5T8CtKpQQ9T"
   },
   "outputs": [
    {
     "name": "stdout",
     "output_type": "stream",
     "text": [
      "Dados: [1, 3, 4.67, 9, 27, 27.0, 81, 156.14, 243, 729]\n",
      "Media aritmética: 156.14, Média Geométrica: 27.0, Média Harmonica: 4.67\n"
     ]
    },
    {
     "data": {
      "image/png": "[encoded data removed]",
      "text/plain": [
       "<Figure size 800x600 with 1 Axes>"
      ]
     },
     "metadata": {},
     "output_type": "display_data"
    }
   ],
   "source": [
    "plot_line_means(dados,media_aritmetica,media_geometrica,media_harmonica)"
   ]
  },
  {
   "cell_type": "markdown",
   "metadata": {
    "id": "cLUMxLrsKPhI"
   },
   "source": [
    "**Moda - Valores mais frequentes da distribuição**"
   ]
  },
  {
   "cell_type": "code",
   "execution_count": 43,
   "metadata": {
    "id": "kYSd6b9OfVwY"
   },
   "outputs": [],
   "source": [
    "dados=[4,5,4,6,5,8,4]"
   ]
  },
  {
   "cell_type": "code",
   "execution_count": 44,
   "metadata": {
    "id": "2oE4M8bXfzex"
   },
   "outputs": [
    {
     "name": "stderr",
     "output_type": "stream",
     "text": [
      "/var/folders/17/z_f3bx6139d688yzbpkgj51c0000gn/T/ipykernel_62911/1745492432.py:1: FutureWarning: Unlike other reduction functions (e.g. `skew`, `kurtosis`), the default behavior of `mode` typically preserves the axis it acts along. In SciPy 1.11.0, this behavior will change: the default value of `keepdims` will become False, the `axis` over which the statistic is taken will be eliminated, and the value None will no longer be accepted. Set `keepdims` to True or False to avoid this warning.\n",
      "  stats.mode(dados)\n"
     ]
    },
    {
     "data": {
      "text/plain": [
       "ModeResult(mode=array([4]), count=array([3]))"
      ]
     },
     "execution_count": 44,
     "metadata": {},
     "output_type": "execute_result"
    }
   ],
   "source": [
    "stats.mode(dados)"
   ]
  },
  {
   "cell_type": "code",
   "execution_count": 45,
   "metadata": {
    "id": "Fo_jLni1XHcA"
   },
   "outputs": [],
   "source": [
    "dados_bimodal=[4,5,4,6,5,8,4,4,5,5]"
   ]
  },
  {
   "cell_type": "code",
   "execution_count": 46,
   "metadata": {
    "id": "Hf-SVQKh7axy"
   },
   "outputs": [],
   "source": [
    "from collections import Counter"
   ]
  },
  {
   "cell_type": "code",
   "execution_count": 47,
   "metadata": {
    "id": "7nuDt03sfv0c"
   },
   "outputs": [],
   "source": [
    "def calcula_moda(dados):\n",
    "  number_counts = Counter(dados)\n",
    "  print(number_counts)\n",
    "  modes = [val for val,count in number_counts.items() if count == max(number_counts.values())]\n",
    "  return modes"
   ]
  },
  {
   "cell_type": "code",
   "execution_count": 48,
   "metadata": {
    "id": "dBroOcLkXTDy"
   },
   "outputs": [
    {
     "name": "stdout",
     "output_type": "stream",
     "text": [
      "Counter({4: 4, 5: 4, 6: 1, 8: 1})\n"
     ]
    },
    {
     "data": {
      "text/plain": [
       "[4, 5]"
      ]
     },
     "execution_count": 48,
     "metadata": {},
     "output_type": "execute_result"
    }
   ],
   "source": [
    "calcula_moda(dados_bimodal)"
   ]
  },
  {
   "cell_type": "code",
   "execution_count": 49,
   "metadata": {
    "id": "2xAmiAi7Xrzo"
   },
   "outputs": [],
   "source": [
    "dados_amodal=[1,2,3,4,5]"
   ]
  },
  {
   "cell_type": "code",
   "execution_count": 50,
   "metadata": {
    "id": "rjV57RNJgqP_"
   },
   "outputs": [
    {
     "name": "stdout",
     "output_type": "stream",
     "text": [
      "Counter({1: 1, 2: 1, 3: 1, 4: 1, 5: 1})\n"
     ]
    },
    {
     "data": {
      "text/plain": [
       "[1, 2, 3, 4, 5]"
      ]
     },
     "execution_count": 50,
     "metadata": {},
     "output_type": "execute_result"
    }
   ],
   "source": [
    "calcula_moda(dados_amodal)"
   ]
  },
  {
   "cell_type": "markdown",
   "metadata": {
    "id": "yLfFLbVEKP9J"
   },
   "source": [
    "**Mediana - É o valor da variável que divide os dados ordenados em duas partes de igual frequência.**"
   ]
  },
  {
   "cell_type": "code",
   "execution_count": 51,
   "metadata": {
    "id": "ciTxDV5etNw6"
   },
   "outputs": [],
   "source": [
    "dados_mediana7 = [7,1,5,2,3,1,6]"
   ]
  },
  {
   "cell_type": "code",
   "execution_count": 52,
   "metadata": {
    "id": "_DKfdkLRumFj"
   },
   "outputs": [
    {
     "data": {
      "text/plain": [
       "array([1, 1, 2, 3, 5, 6, 7])"
      ]
     },
     "execution_count": 52,
     "metadata": {},
     "output_type": "execute_result"
    }
   ],
   "source": [
    "np.sort(dados_mediana7)"
   ]
  },
  {
   "cell_type": "code",
   "execution_count": 53,
   "metadata": {
    "id": "eDGhZOZntYf_"
   },
   "outputs": [
    {
     "data": {
      "text/plain": [
       "3.0"
      ]
     },
     "execution_count": 53,
     "metadata": {},
     "output_type": "execute_result"
    }
   ],
   "source": [
    "np.median(dados_mediana7)"
   ]
  },
  {
   "cell_type": "code",
   "execution_count": 54,
   "metadata": {
    "id": "rWkL3hsiKY3q"
   },
   "outputs": [],
   "source": [
    "dados_mediana8 = [1,2,1,1,4,5,3,6]"
   ]
  },
  {
   "cell_type": "code",
   "execution_count": 55,
   "metadata": {
    "id": "HDy0_g95uu6I"
   },
   "outputs": [
    {
     "data": {
      "text/plain": [
       "array([1, 1, 1, 2, 3, 4, 5, 6])"
      ]
     },
     "execution_count": 55,
     "metadata": {},
     "output_type": "execute_result"
    }
   ],
   "source": [
    "np.sort(dados_mediana8)"
   ]
  },
  {
   "cell_type": "code",
   "execution_count": 56,
   "metadata": {
    "id": "JyEACdIpuFzI"
   },
   "outputs": [
    {
     "data": {
      "text/plain": [
       "2.5"
      ]
     },
     "execution_count": 56,
     "metadata": {},
     "output_type": "execute_result"
    }
   ],
   "source": [
    "np.median(dados_mediana8)"
   ]
  },
  {
   "cell_type": "markdown",
   "metadata": {
    "id": "hsgSxTj7KQFg"
   },
   "source": [
    "# Medidas Separatrizes"
   ]
  },
  {
   "cell_type": "code",
   "execution_count": 57,
   "metadata": {
    "id": "8TPGX7OgrYQX"
   },
   "outputs": [],
   "source": [
    "notas = [13,25,69,72,33,41,28,17,65]"
   ]
  },
  {
   "cell_type": "code",
   "execution_count": 58,
   "metadata": {
    "id": "wdlvMgV3wCn5"
   },
   "outputs": [
    {
     "data": {
      "text/plain": [
       "array([13, 17, 25, 28, 33, 41, 65, 69, 72])"
      ]
     },
     "execution_count": 58,
     "metadata": {},
     "output_type": "execute_result"
    }
   ],
   "source": [
    "np.sort(notas)"
   ]
  },
  {
   "cell_type": "markdown",
   "metadata": {
    "id": "eLQnsttezVO2"
   },
   "source": [
    "**Q1 - Primeiro Quartil**"
   ]
  },
  {
   "cell_type": "code",
   "execution_count": 59,
   "metadata": {
    "id": "fAGdGABNwo7-"
   },
   "outputs": [
    {
     "data": {
      "text/plain": [
       "25.0"
      ]
     },
     "execution_count": 59,
     "metadata": {},
     "output_type": "execute_result"
    }
   ],
   "source": [
    "np.quantile(notas,.25)"
   ]
  },
  {
   "cell_type": "markdown",
   "metadata": {
    "id": "0hMYdvm4zch-"
   },
   "source": [
    "**Q2 - Segundo Quartil**"
   ]
  },
  {
   "cell_type": "code",
   "execution_count": 60,
   "metadata": {
    "id": "GxyOye9-xjYN"
   },
   "outputs": [
    {
     "data": {
      "text/plain": [
       "33.0"
      ]
     },
     "execution_count": 60,
     "metadata": {},
     "output_type": "execute_result"
    }
   ],
   "source": [
    "np.quantile(notas,.50)"
   ]
  },
  {
   "cell_type": "markdown",
   "metadata": {
    "id": "ctNCMCDi1jCD"
   },
   "source": [
    "Comparando com o valor da Mediana"
   ]
  },
  {
   "cell_type": "code",
   "execution_count": 61,
   "metadata": {
    "id": "NIi79oqa1mTG"
   },
   "outputs": [
    {
     "data": {
      "text/plain": [
       "33.0"
      ]
     },
     "execution_count": 61,
     "metadata": {},
     "output_type": "execute_result"
    }
   ],
   "source": [
    "np.median(notas)"
   ]
  },
  {
   "cell_type": "markdown",
   "metadata": {
    "id": "T0R8upGzzfZM"
   },
   "source": [
    "**Q3 - Terceiro Quartil**"
   ]
  },
  {
   "cell_type": "code",
   "execution_count": 62,
   "metadata": {
    "id": "LfRbaWQFxjKV"
   },
   "outputs": [
    {
     "data": {
      "text/plain": [
       "65.0"
      ]
     },
     "execution_count": 62,
     "metadata": {},
     "output_type": "execute_result"
    }
   ],
   "source": [
    "np.quantile(notas,.75)"
   ]
  },
  {
   "cell_type": "markdown",
   "metadata": {
    "id": "S1JYS8Wj70Mh"
   },
   "source": [
    "**P25 - Percentil 25 = Q1**"
   ]
  },
  {
   "cell_type": "code",
   "execution_count": 63,
   "metadata": {
    "id": "K0YrgDin1EoD"
   },
   "outputs": [
    {
     "data": {
      "text/plain": [
       "25.0"
      ]
     },
     "execution_count": 63,
     "metadata": {},
     "output_type": "execute_result"
    }
   ],
   "source": [
    "np.percentile(notas,25)"
   ]
  },
  {
   "cell_type": "markdown",
   "metadata": {
    "id": "cQrKlLbb8Zwe"
   },
   "source": [
    "**P50 - Percentil 50 = Q2**\n"
   ]
  },
  {
   "cell_type": "code",
   "execution_count": 64,
   "metadata": {
    "id": "-AxJlUmw8HYe"
   },
   "outputs": [
    {
     "data": {
      "text/plain": [
       "33.0"
      ]
     },
     "execution_count": 64,
     "metadata": {},
     "output_type": "execute_result"
    }
   ],
   "source": [
    "np.percentile(notas,50)"
   ]
  },
  {
   "cell_type": "markdown",
   "metadata": {
    "id": "vBnkRaEh8KK2"
   },
   "source": [
    "**P75 - Percentil 75 = Q3**"
   ]
  },
  {
   "cell_type": "code",
   "execution_count": 65,
   "metadata": {
    "id": "Z_-CRb0P8LF_"
   },
   "outputs": [
    {
     "data": {
      "text/plain": [
       "65.0"
      ]
     },
     "execution_count": 65,
     "metadata": {},
     "output_type": "execute_result"
    }
   ],
   "source": [
    "np.percentile(notas,75)"
   ]
  },
  {
   "cell_type": "markdown",
   "metadata": {},
   "source": [
    "### Gráfico Boxplot"
   ]
  },
  {
   "cell_type": "code",
   "execution_count": 66,
   "metadata": {},
   "outputs": [
    {
     "data": {
      "text/plain": [
       "<Axes: >"
      ]
     },
     "execution_count": 66,
     "metadata": {},
     "output_type": "execute_result"
    },
    {
     "data": {
      "image/png": "[encoded data removed]",
      "text/plain": [
       "<Figure size 640x480 with 1 Axes>"
      ]
     },
     "metadata": {},
     "output_type": "display_data"
    }
   ],
   "source": [
    "import seaborn as sns\n",
    "sns.boxplot(data=notas,orient=\"h\")"
   ]
  },
  {
   "cell_type": "markdown",
   "metadata": {
    "id": "0rfhERIXKQNw"
   },
   "source": [
    "## Medidas de Variação e Dispersão"
   ]
  },
  {
   "cell_type": "code",
   "execution_count": 67,
   "metadata": {
    "id": "_eI5nwzR0Ph6"
   },
   "outputs": [],
   "source": [
    "dados_dispersao = [10,20,30,40,50,60,70,80,90,100]"
   ]
  },
  {
   "cell_type": "markdown",
   "metadata": {
    "id": "SMpUvp880giq"
   },
   "source": [
    "**Média**"
   ]
  },
  {
   "cell_type": "code",
   "execution_count": 68,
   "metadata": {
    "id": "ihucagrh0ihn"
   },
   "outputs": [
    {
     "data": {
      "text/plain": [
       "55.0"
      ]
     },
     "execution_count": 68,
     "metadata": {},
     "output_type": "execute_result"
    }
   ],
   "source": [
    "np.mean(dados_dispersao)"
   ]
  },
  {
   "cell_type": "markdown",
   "metadata": {
    "id": "B1M62ymNKhbw"
   },
   "source": [
    "**Variância**\n",
    "\n",
    "![alt text](https://wikimedia.org/api/rest_v1/media/math/render/svg/c2446a06b779245a22147449fc523f2b1b0013ef)"
   ]
  },
  {
   "cell_type": "code",
   "execution_count": 69,
   "metadata": {
    "id": "rFqROpyiKq5O"
   },
   "outputs": [
    {
     "data": {
      "text/plain": [
       "825.0"
      ]
     },
     "execution_count": 69,
     "metadata": {},
     "output_type": "execute_result"
    }
   ],
   "source": [
    "np.var(dados_dispersao)"
   ]
  },
  {
   "cell_type": "markdown",
   "metadata": {
    "id": "4-oBtLcnKQVh"
   },
   "source": [
    "**Desvio Padrão**\n",
    "\n",
    "![alt text](https://wikimedia.org/api/rest_v1/media/math/render/svg/cc45b72e1fd6a3de3ec4977f42367f104f57583f)"
   ]
  },
  {
   "cell_type": "code",
   "execution_count": 70,
   "metadata": {
    "id": "bv1jLqB2KgHo"
   },
   "outputs": [
    {
     "data": {
      "text/plain": [
       "28.722813232690143"
      ]
     },
     "execution_count": 70,
     "metadata": {},
     "output_type": "execute_result"
    }
   ],
   "source": [
    "np.std(dados_dispersao)"
   ]
  },
  {
   "cell_type": "markdown",
   "metadata": {
    "id": "quE0vzU2KigB"
   },
   "source": [
    "**Coeficiente de Variação**"
   ]
  },
  {
   "cell_type": "code",
   "execution_count": 71,
   "metadata": {
    "id": "-pulTCl-1IQf"
   },
   "outputs": [
    {
     "data": {
      "text/plain": [
       "0.5222329678670935"
      ]
     },
     "execution_count": 71,
     "metadata": {},
     "output_type": "execute_result"
    }
   ],
   "source": [
    "stats.variation(dados_dispersao)"
   ]
  },
  {
   "cell_type": "markdown",
   "metadata": {
    "id": "ikOkDTuaZIvf"
   },
   "source": [
    "Importante: Um coeficiente de variação **menor que 25%** é um bom indicativo de homogeneidade dos dados, ou seja, os dados não variam tanto a partir da média."
   ]
  },
  {
   "cell_type": "code",
   "execution_count": 72,
   "metadata": {
    "id": "Ln66W8PPKpXh"
   },
   "outputs": [],
   "source": [
    "media=np.mean(dados_dispersao)\n",
    "desvio_padrao = np.std(dados_dispersao)"
   ]
  },
  {
   "cell_type": "code",
   "execution_count": 73,
   "metadata": {
    "id": "jZOMqLYc1d40"
   },
   "outputs": [
    {
     "data": {
      "text/plain": [
       "0.5222329678670935"
      ]
     },
     "execution_count": 73,
     "metadata": {},
     "output_type": "execute_result"
    }
   ],
   "source": [
    "desvio_padrao/media"
   ]
  },
  {
   "cell_type": "markdown",
   "metadata": {
    "id": "6_ZtdOoG0XRV"
   },
   "source": [
    "# Exemplo usando o Pandas"
   ]
  },
  {
   "cell_type": "markdown",
   "metadata": {
    "id": "aY_ma9QR9wQq"
   },
   "source": [
    "Importando as bibliotecas."
   ]
  },
  {
   "cell_type": "code",
   "execution_count": 74,
   "metadata": {
    "id": "IM3LHKiy0Wcs"
   },
   "outputs": [],
   "source": [
    "import pandas as pd               \n",
    "import numpy as np\n",
    "import seaborn as sns\n",
    "import matplotlib.pyplot as plt"
   ]
  },
  {
   "cell_type": "markdown",
   "metadata": {
    "id": "W5mg0_Qn9zGZ"
   },
   "source": [
    "Carregando a base de dados."
   ]
  },
  {
   "cell_type": "code",
   "execution_count": 75,
   "metadata": {
    "id": "TQZu8udy054-"
   },
   "outputs": [],
   "source": [
    "df = pd.read_csv(\"cars.csv\")"
   ]
  },
  {
   "cell_type": "markdown",
   "metadata": {
    "id": "EHmo2YK291nD"
   },
   "source": [
    "Verificando os dados."
   ]
  },
  {
   "cell_type": "code",
   "execution_count": 76,
   "metadata": {
    "id": "9U2gxtoo1NTf"
   },
   "outputs": [
    {
     "data": {
      "text/html": [
       "<div>\n",
       "<style scoped>\n",
       "    .dataframe tbody tr th:only-of-type {\n",
       "        vertical-align: middle;\n",
       "    }\n",
       "\n",
       "    .dataframe tbody tr th {\n",
       "        vertical-align: top;\n",
       "    }\n",
       "\n",
       "    .dataframe thead th {\n",
       "        text-align: right;\n",
       "    }\n",
       "</style>\n",
       "<table border=\"1\" class=\"dataframe\">\n",
       "  <thead>\n",
       "    <tr style=\"text-align: right;\">\n",
       "      <th></th>\n",
       "      <th>Make</th>\n",
       "      <th>Model</th>\n",
       "      <th>Type</th>\n",
       "      <th>Origin</th>\n",
       "      <th>DriveTrain</th>\n",
       "      <th>MSRP</th>\n",
       "      <th>Invoice</th>\n",
       "      <th>EngineSize</th>\n",
       "      <th>Cylinders</th>\n",
       "      <th>Horsepower</th>\n",
       "      <th>MPG_City</th>\n",
       "      <th>MPG_Highway</th>\n",
       "      <th>Weight</th>\n",
       "      <th>Wheelbase</th>\n",
       "      <th>Length</th>\n",
       "    </tr>\n",
       "  </thead>\n",
       "  <tbody>\n",
       "    <tr>\n",
       "      <th>0</th>\n",
       "      <td>Acura</td>\n",
       "      <td>MDX</td>\n",
       "      <td>SUV</td>\n",
       "      <td>Asia</td>\n",
       "      <td>All</td>\n",
       "      <td>$36,945</td>\n",
       "      <td>$33,337</td>\n",
       "      <td>3.5</td>\n",
       "      <td>6.0</td>\n",
       "      <td>265</td>\n",
       "      <td>17</td>\n",
       "      <td>23</td>\n",
       "      <td>4451</td>\n",
       "      <td>106</td>\n",
       "      <td>189</td>\n",
       "    </tr>\n",
       "    <tr>\n",
       "      <th>1</th>\n",
       "      <td>Acura</td>\n",
       "      <td>RSX Type S 2dr</td>\n",
       "      <td>Sedan</td>\n",
       "      <td>Asia</td>\n",
       "      <td>Front</td>\n",
       "      <td>$23,820</td>\n",
       "      <td>$21,761</td>\n",
       "      <td>2.0</td>\n",
       "      <td>4.0</td>\n",
       "      <td>200</td>\n",
       "      <td>24</td>\n",
       "      <td>31</td>\n",
       "      <td>2778</td>\n",
       "      <td>101</td>\n",
       "      <td>172</td>\n",
       "    </tr>\n",
       "    <tr>\n",
       "      <th>2</th>\n",
       "      <td>Acura</td>\n",
       "      <td>TSX 4dr</td>\n",
       "      <td>Sedan</td>\n",
       "      <td>Asia</td>\n",
       "      <td>Front</td>\n",
       "      <td>$26,990</td>\n",
       "      <td>$24,647</td>\n",
       "      <td>2.4</td>\n",
       "      <td>4.0</td>\n",
       "      <td>200</td>\n",
       "      <td>22</td>\n",
       "      <td>29</td>\n",
       "      <td>3230</td>\n",
       "      <td>105</td>\n",
       "      <td>183</td>\n",
       "    </tr>\n",
       "    <tr>\n",
       "      <th>3</th>\n",
       "      <td>Acura</td>\n",
       "      <td>TL 4dr</td>\n",
       "      <td>Sedan</td>\n",
       "      <td>Asia</td>\n",
       "      <td>Front</td>\n",
       "      <td>$33,195</td>\n",
       "      <td>$30,299</td>\n",
       "      <td>3.2</td>\n",
       "      <td>6.0</td>\n",
       "      <td>270</td>\n",
       "      <td>20</td>\n",
       "      <td>28</td>\n",
       "      <td>3575</td>\n",
       "      <td>108</td>\n",
       "      <td>186</td>\n",
       "    </tr>\n",
       "    <tr>\n",
       "      <th>4</th>\n",
       "      <td>Acura</td>\n",
       "      <td>3.5 RL 4dr</td>\n",
       "      <td>Sedan</td>\n",
       "      <td>Asia</td>\n",
       "      <td>Front</td>\n",
       "      <td>$43,755</td>\n",
       "      <td>$39,014</td>\n",
       "      <td>3.5</td>\n",
       "      <td>6.0</td>\n",
       "      <td>225</td>\n",
       "      <td>18</td>\n",
       "      <td>24</td>\n",
       "      <td>3880</td>\n",
       "      <td>115</td>\n",
       "      <td>197</td>\n",
       "    </tr>\n",
       "  </tbody>\n",
       "</table>\n",
       "</div>"
      ],
      "text/plain": [
       "    Make           Model   Type Origin DriveTrain     MSRP  Invoice  \\\n",
       "0  Acura             MDX    SUV   Asia        All  $36,945  $33,337   \n",
       "1  Acura  RSX Type S 2dr  Sedan   Asia      Front  $23,820  $21,761   \n",
       "2  Acura         TSX 4dr  Sedan   Asia      Front  $26,990  $24,647   \n",
       "3  Acura          TL 4dr  Sedan   Asia      Front  $33,195  $30,299   \n",
       "4  Acura      3.5 RL 4dr  Sedan   Asia      Front  $43,755  $39,014   \n",
       "\n",
       "   EngineSize  Cylinders  Horsepower  MPG_City  MPG_Highway  Weight  \\\n",
       "0         3.5        6.0         265        17           23    4451   \n",
       "1         2.0        4.0         200        24           31    2778   \n",
       "2         2.4        4.0         200        22           29    3230   \n",
       "3         3.2        6.0         270        20           28    3575   \n",
       "4         3.5        6.0         225        18           24    3880   \n",
       "\n",
       "   Wheelbase  Length  \n",
       "0        106     189  \n",
       "1        101     172  \n",
       "2        105     183  \n",
       "3        108     186  \n",
       "4        115     197  "
      ]
     },
     "execution_count": 76,
     "metadata": {},
     "output_type": "execute_result"
    }
   ],
   "source": [
    "df.head(5)"
   ]
  },
  {
   "cell_type": "markdown",
   "metadata": {
    "id": "msmP07bj99fw"
   },
   "source": [
    "Verificando as informações do conjunto de dados."
   ]
  },
  {
   "cell_type": "code",
   "execution_count": 77,
   "metadata": {
    "id": "dSf8ykDt3WgQ"
   },
   "outputs": [
    {
     "name": "stdout",
     "output_type": "stream",
     "text": [
      "<class 'pandas.core.frame.DataFrame'>\n",
      "RangeIndex: 428 entries, 0 to 427\n",
      "Data columns (total 15 columns):\n",
      " #   Column       Non-Null Count  Dtype  \n",
      "---  ------       --------------  -----  \n",
      " 0   Make         428 non-null    object \n",
      " 1   Model        428 non-null    object \n",
      " 2   Type         428 non-null    object \n",
      " 3   Origin       428 non-null    object \n",
      " 4   DriveTrain   428 non-null    object \n",
      " 5   MSRP         428 non-null    object \n",
      " 6   Invoice      428 non-null    object \n",
      " 7   EngineSize   428 non-null    float64\n",
      " 8   Cylinders    426 non-null    float64\n",
      " 9   Horsepower   428 non-null    int64  \n",
      " 10  MPG_City     428 non-null    int64  \n",
      " 11  MPG_Highway  428 non-null    int64  \n",
      " 12  Weight       428 non-null    int64  \n",
      " 13  Wheelbase    428 non-null    int64  \n",
      " 14  Length       428 non-null    int64  \n",
      "dtypes: float64(2), int64(6), object(7)\n",
      "memory usage: 50.3+ KB\n"
     ]
    }
   ],
   "source": [
    "df.info()"
   ]
  },
  {
   "cell_type": "markdown",
   "metadata": {
    "id": "IkBocEye-CtR"
   },
   "source": [
    "Limpando os dados do atributo MSRP."
   ]
  },
  {
   "cell_type": "code",
   "execution_count": 78,
   "metadata": {
    "id": "f9VYXpEO3W2X"
   },
   "outputs": [],
   "source": [
    "df['MSRP'] = [x.replace('$', '') for x in df['MSRP']] \n",
    "df['MSRP'] = [x.replace(',', '') for x in df['MSRP']]"
   ]
  },
  {
   "cell_type": "markdown",
   "metadata": {
    "id": "YRiUjfU5_S2R"
   },
   "source": [
    "Verificando os dados após limpeza."
   ]
  },
  {
   "cell_type": "code",
   "execution_count": 79,
   "metadata": {
    "id": "8COuUjwe-Tj3"
   },
   "outputs": [
    {
     "data": {
      "text/plain": [
       "0    36945\n",
       "1    23820\n",
       "2    26990\n",
       "3    33195\n",
       "4    43755\n",
       "Name: MSRP, dtype: object"
      ]
     },
     "execution_count": 79,
     "metadata": {},
     "output_type": "execute_result"
    }
   ],
   "source": [
    "df['MSRP'].head(5)"
   ]
  },
  {
   "cell_type": "markdown",
   "metadata": {
    "id": "u6MPYZkI_XBm"
   },
   "source": [
    "Verificando as informações do conjunto de dados."
   ]
  },
  {
   "cell_type": "code",
   "execution_count": 80,
   "metadata": {
    "id": "67KkkIAd_J0V"
   },
   "outputs": [
    {
     "name": "stdout",
     "output_type": "stream",
     "text": [
      "<class 'pandas.core.frame.DataFrame'>\n",
      "RangeIndex: 428 entries, 0 to 427\n",
      "Data columns (total 15 columns):\n",
      " #   Column       Non-Null Count  Dtype  \n",
      "---  ------       --------------  -----  \n",
      " 0   Make         428 non-null    object \n",
      " 1   Model        428 non-null    object \n",
      " 2   Type         428 non-null    object \n",
      " 3   Origin       428 non-null    object \n",
      " 4   DriveTrain   428 non-null    object \n",
      " 5   MSRP         428 non-null    object \n",
      " 6   Invoice      428 non-null    object \n",
      " 7   EngineSize   428 non-null    float64\n",
      " 8   Cylinders    426 non-null    float64\n",
      " 9   Horsepower   428 non-null    int64  \n",
      " 10  MPG_City     428 non-null    int64  \n",
      " 11  MPG_Highway  428 non-null    int64  \n",
      " 12  Weight       428 non-null    int64  \n",
      " 13  Wheelbase    428 non-null    int64  \n",
      " 14  Length       428 non-null    int64  \n",
      "dtypes: float64(2), int64(6), object(7)\n",
      "memory usage: 50.3+ KB\n"
     ]
    }
   ],
   "source": [
    "df.info()"
   ]
  },
  {
   "cell_type": "markdown",
   "metadata": {
    "id": "fLXk51It-LFY"
   },
   "source": [
    "Transformando os dados para o formato numérico."
   ]
  },
  {
   "cell_type": "code",
   "execution_count": 81,
   "metadata": {
    "id": "moGMIr59-Pu2"
   },
   "outputs": [],
   "source": [
    "df['MSRP']=pd.to_numeric(df['MSRP'],errors='coerce')"
   ]
  },
  {
   "cell_type": "code",
   "execution_count": 82,
   "metadata": {
    "id": "yck0iJT0_jPN"
   },
   "outputs": [
    {
     "name": "stdout",
     "output_type": "stream",
     "text": [
      "<class 'pandas.core.frame.DataFrame'>\n",
      "RangeIndex: 428 entries, 0 to 427\n",
      "Data columns (total 15 columns):\n",
      " #   Column       Non-Null Count  Dtype  \n",
      "---  ------       --------------  -----  \n",
      " 0   Make         428 non-null    object \n",
      " 1   Model        428 non-null    object \n",
      " 2   Type         428 non-null    object \n",
      " 3   Origin       428 non-null    object \n",
      " 4   DriveTrain   428 non-null    object \n",
      " 5   MSRP         428 non-null    int64  \n",
      " 6   Invoice      428 non-null    object \n",
      " 7   EngineSize   428 non-null    float64\n",
      " 8   Cylinders    426 non-null    float64\n",
      " 9   Horsepower   428 non-null    int64  \n",
      " 10  MPG_City     428 non-null    int64  \n",
      " 11  MPG_Highway  428 non-null    int64  \n",
      " 12  Weight       428 non-null    int64  \n",
      " 13  Wheelbase    428 non-null    int64  \n",
      " 14  Length       428 non-null    int64  \n",
      "dtypes: float64(2), int64(7), object(6)\n",
      "memory usage: 50.3+ KB\n"
     ]
    }
   ],
   "source": [
    "df.info()"
   ]
  },
  {
   "cell_type": "code",
   "execution_count": 83,
   "metadata": {
    "id": "5ox0DXSg4FXa"
   },
   "outputs": [
    {
     "data": {
      "text/html": [
       "<div>\n",
       "<style scoped>\n",
       "    .dataframe tbody tr th:only-of-type {\n",
       "        vertical-align: middle;\n",
       "    }\n",
       "\n",
       "    .dataframe tbody tr th {\n",
       "        vertical-align: top;\n",
       "    }\n",
       "\n",
       "    .dataframe thead th {\n",
       "        text-align: right;\n",
       "    }\n",
       "</style>\n",
       "<table border=\"1\" class=\"dataframe\">\n",
       "  <thead>\n",
       "    <tr style=\"text-align: right;\">\n",
       "      <th></th>\n",
       "      <th>MSRP</th>\n",
       "      <th>EngineSize</th>\n",
       "      <th>Cylinders</th>\n",
       "      <th>Horsepower</th>\n",
       "      <th>MPG_City</th>\n",
       "      <th>MPG_Highway</th>\n",
       "      <th>Weight</th>\n",
       "      <th>Wheelbase</th>\n",
       "      <th>Length</th>\n",
       "    </tr>\n",
       "  </thead>\n",
       "  <tbody>\n",
       "    <tr>\n",
       "      <th>count</th>\n",
       "      <td>428.000000</td>\n",
       "      <td>428.000000</td>\n",
       "      <td>426.000000</td>\n",
       "      <td>428.000000</td>\n",
       "      <td>428.000000</td>\n",
       "      <td>428.000000</td>\n",
       "      <td>428.000000</td>\n",
       "      <td>428.000000</td>\n",
       "      <td>428.000000</td>\n",
       "    </tr>\n",
       "    <tr>\n",
       "      <th>mean</th>\n",
       "      <td>32774.855140</td>\n",
       "      <td>3.196729</td>\n",
       "      <td>5.807512</td>\n",
       "      <td>215.885514</td>\n",
       "      <td>20.060748</td>\n",
       "      <td>26.843458</td>\n",
       "      <td>3577.953271</td>\n",
       "      <td>108.154206</td>\n",
       "      <td>186.362150</td>\n",
       "    </tr>\n",
       "    <tr>\n",
       "      <th>std</th>\n",
       "      <td>19431.716674</td>\n",
       "      <td>1.108595</td>\n",
       "      <td>1.558443</td>\n",
       "      <td>71.836032</td>\n",
       "      <td>5.238218</td>\n",
       "      <td>5.741201</td>\n",
       "      <td>758.983215</td>\n",
       "      <td>8.311813</td>\n",
       "      <td>14.357991</td>\n",
       "    </tr>\n",
       "    <tr>\n",
       "      <th>min</th>\n",
       "      <td>10280.000000</td>\n",
       "      <td>1.300000</td>\n",
       "      <td>3.000000</td>\n",
       "      <td>73.000000</td>\n",
       "      <td>10.000000</td>\n",
       "      <td>12.000000</td>\n",
       "      <td>1850.000000</td>\n",
       "      <td>89.000000</td>\n",
       "      <td>143.000000</td>\n",
       "    </tr>\n",
       "    <tr>\n",
       "      <th>25%</th>\n",
       "      <td>20334.250000</td>\n",
       "      <td>2.375000</td>\n",
       "      <td>4.000000</td>\n",
       "      <td>165.000000</td>\n",
       "      <td>17.000000</td>\n",
       "      <td>24.000000</td>\n",
       "      <td>3104.000000</td>\n",
       "      <td>103.000000</td>\n",
       "      <td>178.000000</td>\n",
       "    </tr>\n",
       "    <tr>\n",
       "      <th>50%</th>\n",
       "      <td>27635.000000</td>\n",
       "      <td>3.000000</td>\n",
       "      <td>6.000000</td>\n",
       "      <td>210.000000</td>\n",
       "      <td>19.000000</td>\n",
       "      <td>26.000000</td>\n",
       "      <td>3474.500000</td>\n",
       "      <td>107.000000</td>\n",
       "      <td>187.000000</td>\n",
       "    </tr>\n",
       "    <tr>\n",
       "      <th>75%</th>\n",
       "      <td>39205.000000</td>\n",
       "      <td>3.900000</td>\n",
       "      <td>6.000000</td>\n",
       "      <td>255.000000</td>\n",
       "      <td>21.250000</td>\n",
       "      <td>29.000000</td>\n",
       "      <td>3977.750000</td>\n",
       "      <td>112.000000</td>\n",
       "      <td>194.000000</td>\n",
       "    </tr>\n",
       "    <tr>\n",
       "      <th>max</th>\n",
       "      <td>192465.000000</td>\n",
       "      <td>8.300000</td>\n",
       "      <td>12.000000</td>\n",
       "      <td>500.000000</td>\n",
       "      <td>60.000000</td>\n",
       "      <td>66.000000</td>\n",
       "      <td>7190.000000</td>\n",
       "      <td>144.000000</td>\n",
       "      <td>238.000000</td>\n",
       "    </tr>\n",
       "  </tbody>\n",
       "</table>\n",
       "</div>"
      ],
      "text/plain": [
       "                MSRP  EngineSize   Cylinders  Horsepower    MPG_City  \\\n",
       "count     428.000000  428.000000  426.000000  428.000000  428.000000   \n",
       "mean    32774.855140    3.196729    5.807512  215.885514   20.060748   \n",
       "std     19431.716674    1.108595    1.558443   71.836032    5.238218   \n",
       "min     10280.000000    1.300000    3.000000   73.000000   10.000000   \n",
       "25%     20334.250000    2.375000    4.000000  165.000000   17.000000   \n",
       "50%     27635.000000    3.000000    6.000000  210.000000   19.000000   \n",
       "75%     39205.000000    3.900000    6.000000  255.000000   21.250000   \n",
       "max    192465.000000    8.300000   12.000000  500.000000   60.000000   \n",
       "\n",
       "       MPG_Highway       Weight   Wheelbase      Length  \n",
       "count   428.000000   428.000000  428.000000  428.000000  \n",
       "mean     26.843458  3577.953271  108.154206  186.362150  \n",
       "std       5.741201   758.983215    8.311813   14.357991  \n",
       "min      12.000000  1850.000000   89.000000  143.000000  \n",
       "25%      24.000000  3104.000000  103.000000  178.000000  \n",
       "50%      26.000000  3474.500000  107.000000  187.000000  \n",
       "75%      29.000000  3977.750000  112.000000  194.000000  \n",
       "max      66.000000  7190.000000  144.000000  238.000000  "
      ]
     },
     "execution_count": 83,
     "metadata": {},
     "output_type": "execute_result"
    }
   ],
   "source": [
    "df.describe()"
   ]
  },
  {
   "cell_type": "markdown",
   "metadata": {
    "id": "ImsZg0Zs49vT"
   },
   "source": [
    "Calculando a média aritmética."
   ]
  },
  {
   "cell_type": "code",
   "execution_count": 84,
   "metadata": {
    "id": "3seXVSmG4thu"
   },
   "outputs": [
    {
     "data": {
      "text/plain": [
       "32774.85514018692"
      ]
     },
     "execution_count": 84,
     "metadata": {},
     "output_type": "execute_result"
    }
   ],
   "source": [
    "df[\"MSRP\"].mean()"
   ]
  },
  {
   "cell_type": "code",
   "execution_count": 85,
   "metadata": {
    "id": "jVTusAT_5BrI"
   },
   "outputs": [],
   "source": [
    "msrp = df[\"MSRP\"]"
   ]
  },
  {
   "cell_type": "code",
   "execution_count": 86,
   "metadata": {
    "id": "fUq9bx4f5KpR"
   },
   "outputs": [
    {
     "data": {
      "text/plain": [
       "32774.85514018692"
      ]
     },
     "execution_count": 86,
     "metadata": {},
     "output_type": "execute_result"
    }
   ],
   "source": [
    "msrp.mean()"
   ]
  },
  {
   "cell_type": "markdown",
   "metadata": {
    "id": "yr9wH1gs7CZ3"
   },
   "source": [
    "Média geométrica"
   ]
  },
  {
   "cell_type": "code",
   "execution_count": 87,
   "metadata": {
    "id": "H_Gcy9t46AZf"
   },
   "outputs": [
    {
     "data": {
      "text/plain": [
       "28841.635198804073"
      ]
     },
     "execution_count": 87,
     "metadata": {},
     "output_type": "execute_result"
    }
   ],
   "source": [
    "gmean(msrp)"
   ]
  },
  {
   "cell_type": "markdown",
   "metadata": {
    "id": "RZ5F94By7Eol"
   },
   "source": [
    "Média Harmônica"
   ]
  },
  {
   "cell_type": "code",
   "execution_count": 88,
   "metadata": {
    "id": "jb53birq6ycT"
   },
   "outputs": [
    {
     "data": {
      "text/plain": [
       "25837.78463669279"
      ]
     },
     "execution_count": 88,
     "metadata": {},
     "output_type": "execute_result"
    }
   ],
   "source": [
    "hmean(msrp)"
   ]
  },
  {
   "cell_type": "markdown",
   "metadata": {
    "id": "VSKZh0yU7I5r"
   },
   "source": [
    "Mediana"
   ]
  },
  {
   "cell_type": "code",
   "execution_count": 89,
   "metadata": {
    "id": "bKjUXqop5Ohr"
   },
   "outputs": [
    {
     "data": {
      "text/plain": [
       "27635.0"
      ]
     },
     "execution_count": 89,
     "metadata": {},
     "output_type": "execute_result"
    }
   ],
   "source": [
    "msrp.median()"
   ]
  },
  {
   "cell_type": "markdown",
   "metadata": {
    "id": "mpcgkQFt7Kjx"
   },
   "source": [
    "Moda"
   ]
  },
  {
   "cell_type": "code",
   "execution_count": 90,
   "metadata": {
    "id": "QXYVS8F15O1G"
   },
   "outputs": [
    {
     "data": {
      "text/plain": [
       "0     13270\n",
       "1     15389\n",
       "2     19635\n",
       "3     19860\n",
       "4     21055\n",
       "5     21595\n",
       "6     23495\n",
       "7     23895\n",
       "8     25700\n",
       "9     27490\n",
       "10    28495\n",
       "11    29995\n",
       "12    31545\n",
       "13    33995\n",
       "14    34495\n",
       "15    35940\n",
       "16    49995\n",
       "17    74995\n",
       "Name: MSRP, dtype: int64"
      ]
     },
     "execution_count": 90,
     "metadata": {},
     "output_type": "execute_result"
    }
   ],
   "source": [
    "msrp.mode()"
   ]
  },
  {
   "cell_type": "markdown",
   "metadata": {
    "id": "xMkxCcZH7L1p"
   },
   "source": [
    "Variação"
   ]
  },
  {
   "cell_type": "code",
   "execution_count": 91,
   "metadata": {
    "id": "NmkXCMna5Pll"
   },
   "outputs": [
    {
     "data": {
      "text/plain": [
       "377591612.88763136"
      ]
     },
     "execution_count": 91,
     "metadata": {},
     "output_type": "execute_result"
    }
   ],
   "source": [
    "msrp.var()"
   ]
  },
  {
   "cell_type": "markdown",
   "metadata": {
    "id": "HJrbuWPK7N56"
   },
   "source": [
    "Desvio padrão"
   ]
  },
  {
   "cell_type": "code",
   "execution_count": 92,
   "metadata": {
    "id": "DG3C-Hp95PRt"
   },
   "outputs": [
    {
     "data": {
      "text/plain": [
       "19431.716673717518"
      ]
     },
     "execution_count": 92,
     "metadata": {},
     "output_type": "execute_result"
    }
   ],
   "source": [
    "msrp.std()"
   ]
  },
  {
   "cell_type": "markdown",
   "metadata": {
    "id": "JDt5DAiC7QwB"
   },
   "source": [
    "Valor máximo."
   ]
  },
  {
   "cell_type": "code",
   "execution_count": 93,
   "metadata": {
    "id": "RM8QdsTK5QHo"
   },
   "outputs": [
    {
     "data": {
      "text/plain": [
       "192465"
      ]
     },
     "execution_count": 93,
     "metadata": {},
     "output_type": "execute_result"
    }
   ],
   "source": [
    "msrp.max()"
   ]
  },
  {
   "cell_type": "markdown",
   "metadata": {
    "id": "f5-eXcMC7Tom"
   },
   "source": [
    "Valor mínimo"
   ]
  },
  {
   "cell_type": "code",
   "execution_count": 94,
   "metadata": {
    "id": "HR7oitrC5Qvn"
   },
   "outputs": [
    {
     "data": {
      "text/plain": [
       "10280"
      ]
     },
     "execution_count": 94,
     "metadata": {},
     "output_type": "execute_result"
    }
   ],
   "source": [
    "msrp.min()"
   ]
  },
  {
   "cell_type": "markdown",
   "metadata": {
    "id": "Y-GnN7OQ_Ozh"
   },
   "source": [
    "# Medidas de Assimetria\n",
    "Nos possibilitam analisar uma distribuição em relação a sua moda, mediana e média."
   ]
  },
  {
   "cell_type": "code",
   "execution_count": 95,
   "metadata": {
    "id": "kLhqAiHgKQXl"
   },
   "outputs": [],
   "source": [
    "import matplotlib.pyplot as plt\n",
    "import math\n",
    "import numpy as np\n",
    "import seaborn as sns\n",
    "import pandas as pd\n",
    "from scipy.stats import kurtosis, skew\n",
    "%matplotlib inline"
   ]
  },
  {
   "cell_type": "markdown",
   "metadata": {
    "id": "qNCNECw3iTuL"
   },
   "source": [
    "Função para calcular estatísticas."
   ]
  },
  {
   "cell_type": "code",
   "execution_count": 96,
   "metadata": {
    "id": "K0XMPqwHDW-k"
   },
   "outputs": [],
   "source": [
    "def calcula_estatisticas(data):\n",
    "  mean = round(np.mean(data),2)\n",
    "  #mode = round(stats.mode(data,)[0][0],2)\n",
    "  mod = stats.mode(data,keepdims=False,axis=0).mode\n",
    "  median = round(np.median(data),2)\n",
    "  #median = np.median(data,axis=None,overwrite_input=True)\n",
    "  var = round(np.var(data),2)\n",
    "  std = round(np.std(data),2)\n",
    "  coef_pearson = round(stats.skew(data),2)\n",
    "  coef_kurtosis = round(kurtosis(data),2)\n",
    "  msg = print(\"Media: {}\\nModa: {}\\nMediana: {}\\nVariância: {}\\nDesvio Padrão: {}\\nCoeficiente Person: {}\\nCoeficiente de Kurtosi: {}\".format(mean,mod,median,var,std,coef_pearson,coef_kurtosis))\n",
    "  return msg"
   ]
  },
  {
   "cell_type": "markdown",
   "metadata": {
    "id": "Za5Hltx1l3pR"
   },
   "source": [
    "Considere a seguinte amostra."
   ]
  },
  {
   "cell_type": "code",
   "execution_count": 97,
   "metadata": {
    "id": "NbLEtUIGbazs"
   },
   "outputs": [],
   "source": [
    "s0 = [4,5,6,5,5,6,6,5,4,5,5,5]"
   ]
  },
  {
   "cell_type": "code",
   "execution_count": 98,
   "metadata": {
    "id": "ULWk2vH8e0Wp"
   },
   "outputs": [
    {
     "name": "stdout",
     "output_type": "stream",
     "text": [
      "Media: 5.08\n",
      "Moda: 5\n",
      "Mediana: 5.0\n",
      "Variância: 0.41\n",
      "Desvio Padrão: 0.64\n",
      "Coeficiente Person: -0.08\n",
      "Coeficiente de Kurtosi: -0.58\n"
     ]
    }
   ],
   "source": [
    "calcula_estatisticas(s0)"
   ]
  },
  {
   "cell_type": "markdown",
   "metadata": {
    "id": "yyj7LY2Y3SCB"
   },
   "source": [
    "Distribuição Simétrica - Média = Moda = Mediana."
   ]
  },
  {
   "cell_type": "code",
   "execution_count": 99,
   "metadata": {
    "id": "Fa1M1i4grycB"
   },
   "outputs": [
    {
     "name": "stderr",
     "output_type": "stream",
     "text": [
      "/var/folders/17/z_f3bx6139d688yzbpkgj51c0000gn/T/ipykernel_62911/2966994086.py:2: UserWarning: \n",
      "\n",
      "`distplot` is a deprecated function and will be removed in seaborn v0.14.0.\n",
      "\n",
      "Please adapt your code to use either `displot` (a figure-level function with\n",
      "similar flexibility) or `kdeplot` (an axes-level function for kernel density plots).\n",
      "\n",
      "For a guide to updating your code to use the new functions, please see\n",
      "https://gist.github.com/mwaskom/de44147ed2974457ad6372750bbe5751\n",
      "\n",
      "  ax = sns.distplot(s0,rug=True,kde=True,hist=False)\n"
     ]
    },
    {
     "data": {
      "image/png": "[encoded data removed]",
      "text/plain": [
       "<Figure size 1200x400 with 1 Axes>"
      ]
     },
     "metadata": {},
     "output_type": "display_data"
    }
   ],
   "source": [
    "fig = plt.figure(figsize=(12, 4))\n",
    "ax = sns.distplot(s0,rug=True,kde=True,hist=False)\n",
    "\n",
    "ax.annotate('Mode', xy=(5, 0.4), xytext=(4.7, 0.7),arrowprops={'arrowstyle': '-'})         \n",
    "ax.annotate('Median', xy=(5, 0.4), xytext=(5.3, 0.7),arrowprops={'arrowstyle': '-'})\n",
    "ax.annotate('Média', xy=(5, 0.4), xytext=(5.0, 1), arrowprops={'arrowstyle': '-'})\n",
    "plt.show()"
   ]
  },
  {
   "cell_type": "markdown",
   "metadata": {
    "id": "vZR0Ev4eFouu"
   },
   "source": [
    "Coeficiente de Pearson - O valor é próximo de zero a distribuição é simétrica.\n",
    "\n",
    "Coeficiente de Curtose - O valor é menor que 3 o grau de achatamento da distribuição normal é platicúrtica (mais achatada no platô)"
   ]
  },
  {
   "cell_type": "markdown",
   "metadata": {
    "id": "UKXix0t2V7C1"
   },
   "source": [
    "Considere a segunda amostra."
   ]
  },
  {
   "cell_type": "code",
   "execution_count": 100,
   "metadata": {
    "id": "lb-A7Psve_sz"
   },
   "outputs": [],
   "source": [
    "s1 = [12,8.0, 4, 3, 2,1,1]"
   ]
  },
  {
   "cell_type": "code",
   "execution_count": 101,
   "metadata": {
    "id": "_3GVdsIpfDrM"
   },
   "outputs": [
    {
     "name": "stdout",
     "output_type": "stream",
     "text": [
      "Media: 4.43\n",
      "Moda: 1.0\n",
      "Mediana: 3.0\n",
      "Variância: 14.53\n",
      "Desvio Padrão: 3.81\n",
      "Coeficiente Person: 0.98\n",
      "Coeficiente de Kurtosi: -0.45\n"
     ]
    }
   ],
   "source": [
    "calcula_estatisticas(s1)"
   ]
  },
  {
   "cell_type": "markdown",
   "metadata": {
    "id": "9GiXm6p73teq"
   },
   "source": [
    "Asimétrica Positiva / à direita - Média > Mediana > Moda"
   ]
  },
  {
   "cell_type": "code",
   "execution_count": 102,
   "metadata": {
    "id": "_MFULXorva1t"
   },
   "outputs": [
    {
     "name": "stderr",
     "output_type": "stream",
     "text": [
      "/var/folders/17/z_f3bx6139d688yzbpkgj51c0000gn/T/ipykernel_62911/569338999.py:2: UserWarning: \n",
      "\n",
      "`distplot` is a deprecated function and will be removed in seaborn v0.14.0.\n",
      "\n",
      "Please adapt your code to use either `displot` (a figure-level function with\n",
      "similar flexibility) or `kdeplot` (an axes-level function for kernel density plots).\n",
      "\n",
      "For a guide to updating your code to use the new functions, please see\n",
      "https://gist.github.com/mwaskom/de44147ed2974457ad6372750bbe5751\n",
      "\n",
      "  ax = sns.distplot(s1,rug=True,kde=True,hist=False)\n"
     ]
    },
    {
     "data": {
      "image/png": "[encoded data removed]",
      "text/plain": [
       "<Figure size 1200x400 with 1 Axes>"
      ]
     },
     "metadata": {},
     "output_type": "display_data"
    }
   ],
   "source": [
    "fig = plt.figure(figsize=(12, 4))\n",
    "ax = sns.distplot(s1,rug=True,kde=True,hist=False)\n",
    "\n",
    "ax.annotate('Moda', xy=(1,0.01), xytext=(1, 0.02),arrowprops={'arrowstyle': '-'})         \n",
    "ax.annotate('Mediana', xy=(3, 0.01), xytext=(3, 0.03),arrowprops={'arrowstyle': '-'})\n",
    "ax.annotate('Média', xy=(4.4, 0.01), xytext=(4.5, 0.02),arrowprops={'arrowstyle': '-'})\n",
    "plt.show()"
   ]
  },
  {
   "cell_type": "markdown",
   "metadata": {
    "id": "YgT3LUb0nu5S"
   },
   "source": [
    "Coeficiente de Pearson - O valor é próximo de 1 a distribuição é assimétrica positiva"
   ]
  },
  {
   "cell_type": "markdown",
   "metadata": {
    "id": "yM13rLkhjj1W"
   },
   "source": [
    "Considere a terceira amostra"
   ]
  },
  {
   "cell_type": "code",
   "execution_count": 103,
   "metadata": {
    "id": "2Z6WDSsEfQtB"
   },
   "outputs": [],
   "source": [
    "s2 = [-3,-1,4,2.5,4,3]"
   ]
  },
  {
   "cell_type": "code",
   "execution_count": 104,
   "metadata": {
    "id": "o9BhWeTCfTab"
   },
   "outputs": [
    {
     "name": "stdout",
     "output_type": "stream",
     "text": [
      "Media: 1.58\n",
      "Moda: 4.0\n",
      "Mediana: 2.75\n",
      "Variância: 7.03\n",
      "Desvio Padrão: 2.65\n",
      "Coeficiente Person: -0.73\n",
      "Coeficiente de Kurtosi: -1.12\n"
     ]
    }
   ],
   "source": [
    "calcula_estatisticas(s2)"
   ]
  },
  {
   "cell_type": "markdown",
   "metadata": {
    "id": "cH_kVyzP36gf"
   },
   "source": [
    "Asimétrica negativa / à esquerda - Média < Mediana < Moda"
   ]
  },
  {
   "cell_type": "code",
   "execution_count": 105,
   "metadata": {
    "id": "CMMlyXFt1Zsc"
   },
   "outputs": [
    {
     "name": "stderr",
     "output_type": "stream",
     "text": [
      "/var/folders/17/z_f3bx6139d688yzbpkgj51c0000gn/T/ipykernel_62911/2622537822.py:2: UserWarning: \n",
      "\n",
      "`distplot` is a deprecated function and will be removed in seaborn v0.14.0.\n",
      "\n",
      "Please adapt your code to use either `displot` (a figure-level function with\n",
      "similar flexibility) or `kdeplot` (an axes-level function for kernel density plots).\n",
      "\n",
      "For a guide to updating your code to use the new functions, please see\n",
      "https://gist.github.com/mwaskom/de44147ed2974457ad6372750bbe5751\n",
      "\n",
      "  ax = sns.distplot(s2,rug=True,kde=True,hist=False)\n"
     ]
    },
    {
     "data": {
      "image/png": "[encoded data removed]",
      "text/plain": [
       "<Figure size 1200x400 with 1 Axes>"
      ]
     },
     "metadata": {},
     "output_type": "display_data"
    }
   ],
   "source": [
    "fig = plt.figure(figsize=(12, 4))\n",
    "ax = sns.distplot(s2,rug=True,kde=True,hist=False)\n",
    "\n",
    "ax.annotate('Moda', xy=(4,0.01), xytext=(5, 0.05),arrowprops={'arrowstyle': '-'})         \n",
    "ax.annotate('Mediana', xy=(2.75, 0.01), xytext=(3, 0.03),arrowprops={'arrowstyle': '-'})\n",
    "ax.annotate('Média', xy=(1.5, 0.01), xytext=(0.5, 0.05),arrowprops={'arrowstyle': '-'})\n",
    "plt.show()"
   ]
  },
  {
   "cell_type": "markdown",
   "metadata": {
    "id": "UKyKH5yLUClJ"
   },
   "source": [
    "Coeficiente de Pearson - O valor é próximo de -1 a distribuição é assimétrica negativa."
   ]
  },
  {
   "cell_type": "markdown",
   "metadata": {
    "id": "oF8uzpKnb3Rp"
   },
   "source": [
    "### Gerando dados aleatórios"
   ]
  },
  {
   "cell_type": "markdown",
   "metadata": {
    "id": "J6NW6-MxcAu-"
   },
   "source": [
    "Amostra seguindo uma distribuição normal"
   ]
  },
  {
   "cell_type": "code",
   "execution_count": 106,
   "metadata": {
    "id": "6BfqAwCWb8yV"
   },
   "outputs": [],
   "source": [
    "sample_normal = np.random.normal(1,0.5,500)"
   ]
  },
  {
   "cell_type": "code",
   "execution_count": 107,
   "metadata": {
    "id": "zchoS29UcbyG"
   },
   "outputs": [
    {
     "data": {
      "text/plain": [
       "array([0.72130284, 0.93268523, 0.99005423, 1.16430616, 0.61989693,\n",
       "       1.0749184 , 1.148758  , 0.59109314, 1.008113  , 1.27666208])"
      ]
     },
     "execution_count": 107,
     "metadata": {},
     "output_type": "execute_result"
    }
   ],
   "source": [
    "sample_normal[:10]"
   ]
  },
  {
   "cell_type": "code",
   "execution_count": 108,
   "metadata": {
    "id": "_CYgTuMLccQG"
   },
   "outputs": [
    {
     "name": "stdout",
     "output_type": "stream",
     "text": [
      "Media: 1.02\n",
      "Moda: -0.336631211693285\n",
      "Mediana: 1.02\n",
      "Variância: 0.21\n",
      "Desvio Padrão: 0.46\n",
      "Coeficiente Person: -0.1\n",
      "Coeficiente de Kurtosi: 0.06\n"
     ]
    }
   ],
   "source": [
    "calcula_estatisticas(sample_normal)"
   ]
  },
  {
   "cell_type": "markdown",
   "metadata": {
    "id": "0Q6_3QoVquiP"
   },
   "source": [
    "Visualizando a distribuição"
   ]
  },
  {
   "cell_type": "code",
   "execution_count": 109,
   "metadata": {
    "id": "JrsQJ1Zecvbi"
   },
   "outputs": [
    {
     "data": {
      "text/plain": [
       "<Axes: ylabel='Count'>"
      ]
     },
     "execution_count": 109,
     "metadata": {},
     "output_type": "execute_result"
    },
    {
     "data": {
      "image/png": "[encoded data removed]",
      "text/plain": [
       "<Figure size 1200x400 with 1 Axes>"
      ]
     },
     "metadata": {},
     "output_type": "display_data"
    }
   ],
   "source": [
    "fig = plt.figure(figsize=(12, 4))\n",
    "sns.histplot(sample_normal, kde=True)"
   ]
  },
  {
   "cell_type": "markdown",
   "metadata": {
    "id": "FV7S-RxqkKZV"
   },
   "source": [
    "Distribuição simétrica, com o coeficiente de pearson próximo a zero."
   ]
  },
  {
   "cell_type": "markdown",
   "metadata": {
    "id": "mAxxYa8gkbX7"
   },
   "source": [
    "Considere o seguinte exemplo"
   ]
  },
  {
   "cell_type": "code",
   "execution_count": 110,
   "metadata": {
    "id": "uW3QO11DdQav"
   },
   "outputs": [],
   "source": [
    "exp = np.arange(2,len(sample_normal),2)"
   ]
  },
  {
   "cell_type": "markdown",
   "metadata": {
    "id": "asXn1lqKp8y1"
   },
   "source": [
    "Verificando os expoentes"
   ]
  },
  {
   "cell_type": "code",
   "execution_count": 111,
   "metadata": {
    "id": "46Qu1pdHqAB6"
   },
   "outputs": [
    {
     "data": {
      "text/plain": [
       "array([ 2,  4,  6,  8, 10, 12, 14, 16, 18, 20])"
      ]
     },
     "execution_count": 111,
     "metadata": {},
     "output_type": "execute_result"
    }
   ],
   "source": [
    "exp[:10]"
   ]
  },
  {
   "cell_type": "markdown",
   "metadata": {
    "id": "fMJhS8TXqUWh"
   },
   "source": [
    "Gerando uma distribuição assimétrica positiva"
   ]
  },
  {
   "cell_type": "code",
   "execution_count": 112,
   "metadata": {
    "id": "sbVpQLxFqY0D"
   },
   "outputs": [],
   "source": [
    "sample_assimetrica_positiva = []\n",
    "for s,e in zip(sample_normal,exp):\n",
    "    sample_assimetrica_positiva.append(s*e)"
   ]
  },
  {
   "cell_type": "code",
   "execution_count": 113,
   "metadata": {
    "id": "I0LFL3ZidTvS"
   },
   "outputs": [
    {
     "name": "stdout",
     "output_type": "stream",
     "text": [
      "Media: 251.29\n",
      "Moda: -63.86755257861191\n",
      "Mediana: 218.49\n",
      "Variância: 37439.46\n",
      "Desvio Padrão: 193.49\n",
      "Coeficiente Person: 0.81\n",
      "Coeficiente de Kurtosi: 0.19\n"
     ]
    }
   ],
   "source": [
    "calcula_estatisticas(sample_assimetrica_positiva)"
   ]
  },
  {
   "cell_type": "markdown",
   "metadata": {
    "id": "oH0wf72Iq8zE"
   },
   "source": [
    "Visualizando a distribuição"
   ]
  },
  {
   "cell_type": "code",
   "execution_count": 114,
   "metadata": {
    "id": "mxr5jPv0dg8F"
   },
   "outputs": [
    {
     "data": {
      "text/plain": [
       "<Axes: ylabel='Count'>"
      ]
     },
     "execution_count": 114,
     "metadata": {},
     "output_type": "execute_result"
    },
    {
     "data": {
      "image/png": "[encoded data removed]",
      "text/plain": [
       "<Figure size 640x480 with 1 Axes>"
      ]
     },
     "metadata": {},
     "output_type": "display_data"
    }
   ],
   "source": [
    "sns.histplot(sample_assimetrica_positiva, kde=True)"
   ]
  },
  {
   "cell_type": "markdown",
   "metadata": {
    "id": "_xvT6EIErDOz"
   },
   "source": [
    "Gerando uma distribuição assimétrica negativa."
   ]
  },
  {
   "cell_type": "code",
   "execution_count": 115,
   "metadata": {
    "id": "myDjnY8ldt41"
   },
   "outputs": [],
   "source": [
    "exp = (np.arange(2,len(sample_normal),2))*-1"
   ]
  },
  {
   "cell_type": "markdown",
   "metadata": {
    "id": "biub1ntFrONb"
   },
   "source": [
    "Verificando os expoêntes"
   ]
  },
  {
   "cell_type": "code",
   "execution_count": 116,
   "metadata": {
    "id": "yDf_W-EfsbRx"
   },
   "outputs": [
    {
     "data": {
      "text/plain": [
       "array([ -2,  -4,  -6,  -8, -10, -12, -14, -16, -18, -20])"
      ]
     },
     "execution_count": 116,
     "metadata": {},
     "output_type": "execute_result"
    }
   ],
   "source": [
    "exp[:10]"
   ]
  },
  {
   "cell_type": "code",
   "execution_count": 117,
   "metadata": {
    "id": "c4wOPyxXrTmC"
   },
   "outputs": [],
   "source": [
    "sample_assimetrica_negativa = []\n",
    "for s,e in zip(sample_normal,exp):\n",
    "    sample_assimetrica_negativa.append(s*e)"
   ]
  },
  {
   "cell_type": "code",
   "execution_count": 118,
   "metadata": {
    "id": "HViRSD3cdzMu"
   },
   "outputs": [
    {
     "name": "stdout",
     "output_type": "stream",
     "text": [
      "Media: -251.29\n",
      "Moda: -874.088572640107\n",
      "Mediana: -218.49\n",
      "Variância: 37439.46\n",
      "Desvio Padrão: 193.49\n",
      "Coeficiente Person: -0.81\n",
      "Coeficiente de Kurtosi: 0.19\n"
     ]
    }
   ],
   "source": [
    "calcula_estatisticas(sample_assimetrica_negativa)"
   ]
  },
  {
   "cell_type": "markdown",
   "metadata": {
    "id": "hHgdoCI4tAku"
   },
   "source": [
    "Visualizando a distribuição"
   ]
  },
  {
   "cell_type": "code",
   "execution_count": 119,
   "metadata": {
    "id": "1uG0y8oRd-OH"
   },
   "outputs": [
    {
     "data": {
      "text/plain": [
       "<Axes: ylabel='Count'>"
      ]
     },
     "execution_count": 119,
     "metadata": {},
     "output_type": "execute_result"
    },
    {
     "data": {
      "image/png": "[encoded data removed]",
      "text/plain": [
       "<Figure size 640x480 with 1 Axes>"
      ]
     },
     "metadata": {},
     "output_type": "display_data"
    }
   ],
   "source": [
    "sns.histplot(sample_assimetrica_negativa, kde=True)"
   ]
  },
  {
   "cell_type": "markdown",
   "metadata": {
    "id": "ebLUdedG7BfB"
   },
   "source": [
    "Verificando graficamente as distribuições dos atributos do Dataframe"
   ]
  },
  {
   "cell_type": "code",
   "execution_count": 120,
   "metadata": {
    "id": "kxPwresA9ZbP"
   },
   "outputs": [
    {
     "data": {
      "image/png": "[encoded data removed]",
      "text/plain": [
       "<Figure size 1600x1200 with 9 Axes>"
      ]
     },
     "metadata": {},
     "output_type": "display_data"
    }
   ],
   "source": [
    "import matplotlib.pyplot as plt\n",
    "\n",
    "fig, axes = plt.subplots(nrows=3, ncols=3,figsize=(16, 12))\n",
    "for i, column in enumerate(df.select_dtypes(include=np.number).columns.tolist()):\n",
    "    sns.histplot(df[column],ax=axes[i//3,i%3], kde=True)"
   ]
  },
  {
   "cell_type": "code",
   "execution_count": 121,
   "metadata": {},
   "outputs": [
    {
     "data": {
      "text/plain": [
       "<Axes: >"
      ]
     },
     "execution_count": 121,
     "metadata": {},
     "output_type": "execute_result"
    },
    {
     "data": {
      "image/png": "[encoded data removed]",
      "text/plain": [
       "<Figure size 640x480 with 1 Axes>"
      ]
     },
     "metadata": {},
     "output_type": "display_data"
    }
   ],
   "source": [
    "# plot dos boxplots referentes aos diferentes atributos\n",
    "sns.boxplot(data=df,orient=\"h\")"
   ]
  },
  {
   "cell_type": "markdown",
   "metadata": {
    "id": "0LUU8dMwzp7Q"
   },
   "source": [
    "Verificando a distribuição de probabilidade e a diferença entre a média e a mediana."
   ]
  },
  {
   "cell_type": "code",
   "execution_count": 122,
   "metadata": {},
   "outputs": [
    {
     "data": {
      "text/plain": [
       "<Axes: >"
      ]
     },
     "execution_count": 122,
     "metadata": {},
     "output_type": "execute_result"
    },
    {
     "data": {
      "image/png": "[encoded data removed]",
      "text/plain": [
       "<Figure size 640x480 with 1 Axes>"
      ]
     },
     "metadata": {},
     "output_type": "display_data"
    }
   ],
   "source": [
    "# plot dos boxplots referentes aos diferentes atributos, eliminando. o atributo MSPR para aprimorar a visuslização\n",
    "df2 = df.drop(\"MSRP\",axis=1);\n",
    "sns.boxplot(data=df2,orient=\"h\")"
   ]
  },
  {
   "cell_type": "code",
   "execution_count": 123,
   "metadata": {},
   "outputs": [
    {
     "data": {
      "text/plain": [
       "<Axes: >"
      ]
     },
     "execution_count": 123,
     "metadata": {},
     "output_type": "execute_result"
    },
    {
     "data": {
      "image/png": "[encoded data removed]",
      "text/plain": [
       "<Figure size 640x480 with 1 Axes>"
      ]
     },
     "metadata": {},
     "output_type": "display_data"
    }
   ],
   "source": [
    "df3 = df2.drop(\"Weight\",axis=1);\n",
    "sns.boxplot(data=df3,orient=\"h\")"
   ]
  },
  {
   "cell_type": "code",
   "execution_count": 124,
   "metadata": {},
   "outputs": [
    {
     "data": {
      "text/plain": [
       "<Axes: >"
      ]
     },
     "execution_count": 124,
     "metadata": {},
     "output_type": "execute_result"
    },
    {
     "data": {
      "image/png": "[encoded data removed]",
      "text/plain": [
       "<Figure size 640x480 with 1 Axes>"
      ]
     },
     "metadata": {},
     "output_type": "display_data"
    }
   ],
   "source": [
    "df4 = df3.drop(\"Horsepower\",axis=1);\n",
    "sns.boxplot(data=df4,orient=\"h\")"
   ]
  },
  {
   "cell_type": "code",
   "execution_count": 125,
   "metadata": {},
   "outputs": [
    {
     "data": {
      "text/plain": [
       "<Axes: >"
      ]
     },
     "execution_count": 125,
     "metadata": {},
     "output_type": "execute_result"
    },
    {
     "data": {
      "image/png": "[encoded data removed]",
      "text/plain": [
       "<Figure size 640x480 with 1 Axes>"
      ]
     },
     "metadata": {},
     "output_type": "display_data"
    }
   ],
   "source": [
    "df5 = df4.drop(\"Length\",axis=1);\n",
    "sns.boxplot(data=df5,orient=\"h\")"
   ]
  },
  {
   "cell_type": "code",
   "execution_count": 126,
   "metadata": {
    "id": "CIFmuOANerLw"
   },
   "outputs": [
    {
     "name": "stdout",
     "output_type": "stream",
     "text": [
      "Atributo: MSRP, \tCoeficiente de Variação: 59.29%, \tMédia: 32774.86,\tMediana: 27635.0\n",
      "Atributo: EngineSize, \tCoeficiente de Variação: 34.64%, \tMédia: 3.2,\tMediana: 3.0\n",
      "Atributo: Cylinders, \tCoeficiente de Variação: 26.82%, \tMédia: 5.81,\tMediana: 6.0\n",
      "Atributo: Horsepower, \tCoeficiente de Variação: 33.27%, \tMédia: 215.89,\tMediana: 210.0\n",
      "Atributo: MPG_City, \tCoeficiente de Variação: 26.11%, \tMédia: 20.06,\tMediana: 19.0\n",
      "Atributo: MPG_Highway, \tCoeficiente de Variação: 21.39%, \tMédia: 26.84,\tMediana: 26.0\n",
      "Atributo: Weight, \tCoeficiente de Variação: 21.21%, \tMédia: 3577.95,\tMediana: 3474.5\n",
      "Atributo: Wheelbase, \tCoeficiente de Variação: 7.69%, \tMédia: 108.15,\tMediana: 107.0\n",
      "Atributo: Length, \tCoeficiente de Variação: 7.7%, \tMédia: 186.36,\tMediana: 187.0\n"
     ]
    }
   ],
   "source": [
    "for i, column in enumerate(df.select_dtypes(include=np.number).columns.tolist()):\n",
    "    media = round(df[column].mean(),2)\n",
    "    std = df[column].std()\n",
    "    cvar = round(std/media*100,2)\n",
    "    median = df[column].median()\n",
    "    print(\"Atributo: {}, \\tCoeficiente de Variação: {}%, \\tMédia: {},\\tMediana: {}\".format(column,cvar,media,median))"
   ]
  },
  {
   "cell_type": "markdown",
   "metadata": {
    "id": "bBu4Vd5naf9j"
   },
   "source": [
    "# <b>Exercício</b>\n",
    "\n",
    "## Faça a avaliação de quatro datasets atualmente recuperados pela biblioteca sktlearn, como segue:\n",
    "\n",
    "- Iris: https://scikit-learn.org/stable/datasets/toy_dataset.html#iris-plants-dataset\n",
    "- Diabetes: https://scikit-learn.org/stable/datasets/toy_dataset.html#diabetes-dataset\n",
    "- Wine (Vinhos): https://scikit-learn.org/stable/datasets/toy_dataset.html#wine-recognition-dataset\n",
    "- California Housing (imóveis na California): https://scikit-learn.org/stable/datasets/real_world.html#california-housing-dataset\n",
    "\n",
    "Observe como se comporta a distribuição dos dados em cada atributo e suas correspondentes estatíticas descritivas."
   ]
  },
  {
   "cell_type": "code",
   "execution_count": 127,
   "metadata": {
    "id": "NxEeIqvtJGxz"
   },
   "outputs": [],
   "source": [
    "# sugestões de como recuperar os datasets através da biblioteca scikit-learn\n",
    "# carregando dataset Iris\n",
    "from sklearn.datasets import load_iris\n",
    "dataIris = load_iris()\n",
    "\n",
    "# carregando dataset Diabetes\n",
    "from sklearn.datasets import load_diabetes\n",
    "dataDiabetes = load_diabetes()\n",
    "\n",
    "# carregando dataset Wine\n",
    "from sklearn.datasets import load_wine\n",
    "dataWine = load_wine()\n",
    "\n",
    "# carregando dataset California Housing\n",
    "from sklearn.datasets import fetch_california_housing\n",
    "dataCalifornia = fetch_california_housing()"
   ]
  },
  {
   "cell_type": "markdown",
   "metadata": {},
   "source": [
    "### As análises dos dados desses datasets devem ser realizadas em equipe, com a melhor descrição possível dos atributos mais relevantes e as perspectivas de ajuste e exploração dos dados para realizar experimentos com aprendizagem de máquina.\n",
    "\n",
    "- Equipe 01: Abraão, Andre Veras, F. Janielly, Igor, José Darlyson, Robson, Vitória\n",
    "- Equipe 02: Ailton, Antonia Thamires, F. Anderson, Inácio, José Matheus, Salmo, Yara\n",
    "- Equipe 03: Akyla, Antonio Assis, F. Emerson, Ismael, Klayver, Samuel\n",
    "- Equipe 04: Alanna, Antonio Eraldo, F. Evandro, Israel, Maxela, Samyle \n",
    "- Equipe 05: Alex, Clara, Galatas, João Gabriel, Pedro, Tailson\n",
    "- Equipe 06: Ananda, Clézio, Gideão, Jônatas, Raquel, Thiago\n",
    "- Equipe 07: Andre Luis, Daniel, Guilherme, José Caio, Roberto, Vitor \n",
    "\n",
    "A entrega do trabalho será realizada em submissão via SIGAA até o dia 19/05/2023."
   ]
  }
 ],
 "metadata": {
  "colab": {
   "provenance": []
  },
  "kernelspec": {
   "display_name": "Python 3 (ipykernel)",
   "language": "python",
   "name": "python3"
  },
  "language_info": {
   "codemirror_mode": {
    "name": "ipython",
    "version": 3
   },
   "file_extension": ".py",
   "mimetype": "text/x-python",
   "name": "python",
   "nbconvert_exporter": "python",
   "pygments_lexer": "ipython3",
   "version": "3.10.9"
  }
 },
 "nbformat": 4,
 "nbformat_minor": 1
}
